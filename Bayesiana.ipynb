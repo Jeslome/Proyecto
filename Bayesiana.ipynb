{
 "cells": [
  {
   "cell_type": "markdown",
   "id": "e6b35c03-5bf3-4b0b-aaed-dfa6df257da3",
   "metadata": {
    "tags": []
   },
   "source": [
    "# <span style=\"color:red\"><center>Regresión Lineal Bayesiana<center></span>\n"
   ]
  },
  {
   "cell_type": "markdown",
   "id": "e957b364-11d5-4a6b-828c-a54957a4fd6e",
   "metadata": {},
   "source": [
    "<figure> \n",
    "<center>\n",
    "<img src=\"https://github.com/Jeslome/Proyecto/blob/main/Bayesiana/Imagenes/willem-van-de-velde-94074_960_720.jpg?raw=true\"  width=\"800\" height=\"800\" align=\"center\"/>\n",
    "<figcaption> </figcaption>\n",
    "</center>\n",
    "</figure>\n",
    "\n",
    "[Fuente:pixabay](https://pixabay.com/es/photos/willem-van-de-velde-arte-cuadro-94074/)\n"
   ]
  },
  {
   "cell_type": "markdown",
   "id": "7ab1b823-6fa0-43d9-b19e-acbd2c973407",
   "metadata": {},
   "source": [
    "## <span style=\"color:blue\">Referencias</span>\n",
    "Notas de clase profesor Juan Camilo Sosa\n",
    "\n",
    "\n",
    "Cuadernos de aprendizaje profundo sobre estadìstica bayesiana y regresiòn bayesiana\n"
   ]
  },
  {
   "cell_type": "markdown",
   "id": "04a982f7-58b7-4e91-975d-e43e08ed9e5b",
   "metadata": {},
   "source": [
    "## <span style=\"color:blue\">Profesor</span>\n",
    "1. Alvaro  Montenegro, PhD, ammontenegrod@unal.edu.co"
   ]
  },
  {
   "cell_type": "markdown",
   "id": "ef086a00-006e-4680-878c-4ea7059a82fa",
   "metadata": {},
   "source": [
    "\n"
   ]
  },
  {
   "cell_type": "markdown",
   "id": "ff3963e9-0a29-4f0e-a7f8-cdffc8fc0b6c",
   "metadata": {},
   "source": [
    "## <span style=\"color:blue\">Introducción</span>\n",
    "\n",
    "La regresión lineal Bayesiana se  refiere a un tipo de regresión lineal  que se basa en la estadística bayesiana, es decir, en el teorema de Bayes.Por lo tanto, es un tipo de modelado condicional en el que la media de una variable se describe mediante una combinación lineal de otras variables, con el objetivo de obtener la probabilidad posterior de los coeficientes de regresión (así como otros parámetros que describen la distribución de la regresora) y, en última instancia, permitir la predicción fuera de la muestra del regresor (a menudo etiquetado como y) condicional a los valores observados de los regresores (generalmente X). La versión más simple y más utilizada de este modelo es el modelo lineal normal, en el que $y|X$ distribuye Normal. [Wikipedia](https://en.wikipedia.org/wiki/Bayesian_linear_regression)"
   ]
  },
  {
   "cell_type": "markdown",
   "id": "fbd546d8-e3ab-4666-af21-5817269aea76",
   "metadata": {},
   "source": [
    "## <span style=\"color:blue\">Nota Histórica</span>\n",
    "\n",
    "Las aportaciones de Turing a la estadística Bayesiana se desarrollaron en relación con el algoritmo “bamburismus” que sirvió para desencriptar los mensajes enviados por la armada naval germana, durante la segunda guerra mundial, usando la máquina Enigma. Dichos mensajes eran de capital importancia para la población británica cuyo abastecimiento dependía de manera crítica de la supervivencia de los convoyes marítimos aliados.\n",
    "\n",
    "El famoso estadístico Bayesiano, Irwing J. Good, quien a principios de los años 40 del siglo pasado trabajaba como ayudante de Turing en Bletchley Park, explica en un artículo publicado en Biometrika (I. J. Good, 1979) las aportaciones metodológicas de Turing a la teoría Bayesiana, tanto al denominado peso de la evidencia como a la introducción de un test de hipótesis basado en la razón de verosimilitudes con el que confrontar hipótesis nulas y alternativas.  Gracias a recientes desclasificaciones de documentos relacionados con el “bamburismus” por parte del gobierno americano, conocemos que dicho algoritmo se fundamenta en el test de hipótesis diseñado por Turing.[Fuente:blog el pais](https://blogs.elpais.com/turing/2012/12/alan-turing-y-la-estadistica-bayesiana.html)\n",
    "\n",
    "\n",
    "\n",
    "<figure> \n",
    "<center>\n",
    "<img src=\"https://upload.wikimedia.org/wikipedia/commons/thumb/e/ed/Part_of_a_Banbury_Sheet_as_used_in_Banburismus.jpg/800px-Part_of_a_Banbury_Sheet_as_used_in_Banburismus.jpg\"  width=\"600\" height=\"600\" align=\"center\"/>\n",
    "<figcaption> </figcaption>\n",
    "</center>\n",
    "</figure>\n",
    "\n",
    "[Fuente:Wikipedia](https://upload.wikimedia.org/wikipedia/commons/thumb/e/ed/Part_of_a_Banbury_Sheet_as_used_in_Banburismus.jpg/800px-Part_of_a_Banbury_Sheet_as_used_in_Banburismus.jpg)"
   ]
  },
  {
   "cell_type": "markdown",
   "id": "db593497-33e1-4a20-82b4-54587ca4b081",
   "metadata": {},
   "source": [
    "## <span style=\"color:blue\">Conceptos previos</span>"
   ]
  },
  {
   "cell_type": "markdown",
   "id": "1a358b1d-894e-41c8-ad2d-b34d20c44280",
   "metadata": {},
   "source": [
    "**Conjunto de parámetros:$\\theta$** es el ente de interés para usted. Este suele ser un vector, una matriz,o un arreglo de números reales, sin embargo, pueden ser imágenes, textos etc. Es importante anotar que los parámetros no son observables.\n",
    "\n",
    "**Distribución previa, p($\\theta$):** Es el estado de información de $\\theta$ antes de que se observen los datos en $y$.\n",
    "\n",
    "**Distribución muestral, p($y|\\theta$):** Es el mecanismo aleatorio que caracteriza completamente cómo se genera $y$  dado un valor específico de $\\theta$.\n",
    "\n",
    "**Distribución posterior: p($\\theta|y$):** Es el estado de información actualizada acerca de $\\theta$ después de que se ha observado $y$."
   ]
  },
  {
   "cell_type": "markdown",
   "id": "d1873f49-8936-43c0-adb1-5d8fbab0a1bc",
   "metadata": {},
   "source": [
    "## <span style=\"color:blue\">Fundamento Matemático</span>\n"
   ]
  },
  {
   "cell_type": "markdown",
   "id": "951af137-ace1-427d-bd66-32922c6a415e",
   "metadata": {},
   "source": [
    "### <span style=\"color:#4CC9F0\">Teorema de Bayes</span>\n"
   ]
  },
  {
   "cell_type": "markdown",
   "id": "5cd9ad85-ea59-40c7-8be3-841fd841e52a",
   "metadata": {},
   "source": [
    "En la teoría de la probabilidad, es una proposición planteada por el matemático inglés Thomas Bayes (1702-1761) y publicada póstumamente en 1763, que expresa la probabilidad condicional de un evento aleatorio A dado B en términos de la distribución de probabilidad condicional del evento B dado A y la distribución de probabilidad marginal de solo A.\n",
    "\n",
    "Sea $\\{A_1,A_2,...,A_n\\}$ donde $P(A_i)\\neq 0$. Si se conoce $P(B|A_i)$ entonces:\n",
    "\n",
    "$$P(A_i|B)=\\frac{P(B|A_i)P(A_i)}{P(B)}$$\n",
    "\n",
    "\n",
    "Cuando se define $P(A1B)$ nos referimos a la evidencia o cantidad de información   a favor del estatus verdadero de la proposición A basado en su estado de información actual B.\n",
    "\n",
    "En términos de $\\theta$ y $y$ lo anterior de puede reescribir de la siguiente forma:\n",
    "\n",
    "$$p(\\theta|y)=\\frac{p(\\theta , y)}{p(y)}=\\frac{p(y|\\theta)p(\\theta)}{\\int_{\\Theta}p(y|\\theta)p(\\theta)d \\theta} \\propto p(y|\\theta)p(\\theta)$$\n",
    "\n",
    "Donde $\\Theta$ es el conjunto de todos los posibles valores que puede asumir $\\theta$."
   ]
  },
  {
   "cell_type": "markdown",
   "id": "e79e54d7-94e3-4c9e-9826-6ac2e7f1d778",
   "metadata": {},
   "source": [
    "**Ejemplo de aplicación del teorema de Bayes**\n"
   ]
  },
  {
   "cell_type": "markdown",
   "id": "bd029954-707f-4f4e-8737-9328d9632d74",
   "metadata": {},
   "source": [
    " Suponga que el $5\\%$ de  la población de Bogotá tiene una enfermedad. La probabilidad de que el individuo elegido de entre la gente padezca la enfermedad es de $0.05$. Suponga que la evidencia histórica muestra que si una persona padece realmente la enfermedad, la probabilidad de que la prueba indique la presencia de la enfermedad en una persona que en realidad no la padece es de $0.15$. Elija al azar a una persona de Bogotá y aplique la prueba. Los resultados de la prueba indican que la enfermedad está presente. ¿Cuál es la probabilidad de que la persona en realidad padezca la enfermedad?\n",
    "\n",
    "**Solución**\n",
    "\n",
    "Sean: $A_1$ el evento \"padece la enfermedad\", $A_2$ el evento \"no padece la enfermedad\".\n",
    "\n",
    "$$P(A_1)=0.05---> \\textbf{Probabilidad a priori}$$\n",
    "$$P(A_2)=1-0.05=0.95$$\n",
    "$$P(B|A_1)=0.9$$\n",
    "$$P(B|A_2)=0.15$$\n",
    "\n",
    "*Probabilidad a posteriori*\n",
    "\n",
    "$$P(A_1|B)=\\frac{P(A_1)P(B|A_1)}{P(A_1)P(B|A_1)+P(A_2)P(B|A_2)}=\\frac{(0.5)(0.9)}{(0.05)(0.9)+(0.95)(0.15)}=\\frac{0.045}{0.1875}=0.24$$\n"
   ]
  },
  {
   "cell_type": "markdown",
   "id": "c8bde87b-d9cb-4352-8bb4-19a7892dea04",
   "metadata": {},
   "source": [
    "## <span style=\"color:blue\">Modelo</span>"
   ]
  },
  {
   "cell_type": "markdown",
   "id": "384941f0-530f-4746-b526-f688e85b71fa",
   "metadata": {},
   "source": [
    "En la estadística Bayesiana se supone que tanto parámetros ($\\mathbf{\\theta}$) como observaciones ($\\mathbf{y}$) son variables aleatorias. Cuando se realiza un experimento de tipo estadístico, las observaciones se convierten en datos que podemos ver. Por otro lado, los parámetros se convierten en cantidades (parámetros numéricos) que no podemos observar directamente. Solamente podemos **inferir** el valor del parámetro a partir de los datos. Nótese que datos y los *parámetros numéricos* en el experimento son realizaciones de variables aleatorias. Los parámetros puede ser llamados variables latentes, en el sentido que están presentes y determinan las observaciones, pero no pueden ser observadas directamente.\n",
    "\n",
    "\n",
    "[Fuente:AP](https://github.com/AprendizajeProfundo/Estadistica-Bayesiana/blob/master/cuadernos/Introducci%C3%B3n_Estadistica_Bayesiana.ipynb)\n",
    "\n",
    "\n",
    "En el enfoque bayesiano, los datos se complementan con información adicional en forma de una distribución de probabilidad previa. La creencia previa sobre los parámetros se combina con la función de probabilidad de los datos de acuerdo con el teorema de Bayes para producir la creencia posterior sobre los parámetros. Lo anterior puede tomar diferentes formas funcionales dependiendo del dominio y de la información de la que se disponga a priori."
   ]
  },
  {
   "cell_type": "markdown",
   "id": "fb31cff8-a44a-4438-aa19-601b7ce0b210",
   "metadata": {},
   "source": [
    "### <span style=\"color:#4CC9F0\"> Distribuciones a priori no informativas</span>\n",
    "\n",
    "La formulación de $p(\\theta)$ es muy importante puesto que la distribución previa es un resumen de lo que sabe y no sabe acerca de $\\theta$ externo al conjunto de datos $y$.\n",
    "Se recomienda entonces emplear distribuciones previas difusas (distribuciones que asignan probabilidad uniformemente en el espacio de parámetros ) cuando no se tenga acceso a la información a priori de $\\theta$."
   ]
  },
  {
   "cell_type": "markdown",
   "id": "4ff01b2e-00e0-4405-9626-a9996f0cd6bb",
   "metadata": {
    "tags": []
   },
   "source": [
    "### <span style=\"color:#4CC9F0\">Distribución predictiva posterior</span>\n",
    "\n",
    "La distribución predictiva es la distribución de observaciones futuras dada la muestra actual.\n",
    "\n",
    "Supongamos que $ y_ {n + 1} $ es una observación futura que es independiente de los datos observados $ \\mathbf{y}$, dado el correspondiente parámetro $\\boldsymbol{\\theta}$. \n",
    "\n",
    "\n",
    "Entonces, la distribución predictiva para $ y_{n + 1} $ viene dada por\n",
    "\n",
    "$$\n",
    "\\begin{equation*}\n",
    "p(y_{n+1}|\\mathbf{y}).\n",
    "\\end{equation*}\n",
    "$$\n",
    "\n",
    "Observe que\n",
    "\n",
    "$$\n",
    "\\begin{align*}\n",
    "p(y_{n+1}|\\mathbf{y})&=\\int\n",
    "p(y_{n+1},\\mathbf{\\theta}|\\mathbf{y})d\\mathbf{\\theta}\\\\\n",
    "&= \\int\n",
    "f(y_{n+1}|\\mathbf{\\theta},\\mathbf{y})p(\\mathbf{\\theta}|\\mathbf{y})d\\mathbf{\\theta}\\\\\n",
    "&=\\int\n",
    "f(y_{n+1}|\\mathbf{\\theta})p(\\mathbf{\\theta}|\\mathbf{y})d\\mathbf{\\theta}\n",
    "\\end{align*}\n",
    "$$\n",
    "\n",
    "Es decir que\n",
    "\n",
    "$$\n",
    "\\begin{equation*}\n",
    "p(y_{n+1}|\\mathbf{y}) = \\int\n",
    "f(y_{n+1}|\\mathbf{\\theta})p(\\mathbf{\\theta}|\\mathbf{y})d\\mathbf{\\theta},\n",
    "\\end{equation*}\n",
    "$$\n",
    "\n",
    "y en consecuencia los valores predichos pueden ser calculados dentro del algorimo de muestreo.  Supongamos que en el paso $m$ después de convergencia se tiene que la muestra para $\\boldsymbol{\\theta}$ es $\\boldsymbol{\\theta}^{(m)}$. Entonces un valor predictivo puede ser obtenido a partir de la densidad posterior\n",
    "predictiva\n",
    "\n",
    "$$\n",
    "\\begin{equation*}\n",
    "f(y|\\mathbf{\\theta}^{(m)})\n",
    "\\end{equation*}\n",
    "$$\n",
    "\n",
    "Dentro del algoritmo de muestreo se procede así: en el paso $m$\n",
    "\n",
    "1. Se obtiene la muestra $\\mathbf{\\theta}^{(m)} \\sim p(\\mathbf{\\theta}|\\mathbf{y})$ (sección *model* de Stan).\n",
    "2. Se obtiene el valor predicho $y_{n+1} \\sim f(y|\\mathbf{\\theta}^{(m)})$ (sección *generated quantities* de Stan).\n",
    "\n",
    "Observe que en el numeral 2, se está usando la función de verosimilitud (que es una densidad) con parámetro $\\mathbf{\\theta}^{(m)}$.\n",
    "\n",
    "Cada observación $y_i$ en el caso de los modelos de regresión  depende no solamente del parámetro $\\mathbf{\\theta}$, sino también de un vector de variables regresoras o predictoras $\\mathbf{x}_i$. En este caso tenemos que la posterior predictiva es dada por \n",
    "\n",
    "$$\n",
    "\\begin{equation*}\n",
    "p(y_{n+1}|\\mathbf{y},x_{n+1}) = \\int\n",
    "f(y_{n+1}|\\mathbf{\\theta},x_{n+1})p(\\mathbf{\\theta}|\\mathbf{y})d\\mathbf{\\theta},\n",
    "\\end{equation*}\n",
    "$$\n",
    "\n",
    "\n",
    "[Fuente:AP](https://github.com/AprendizajeProfundo/Estadistica-Bayesiana/blob/master/cuadernos/Distribucion_posterior_predictiva.ipynb)\n",
    "\n"
   ]
  },
  {
   "cell_type": "markdown",
   "id": "520832f8-8265-4ce1-897b-fb59345af661",
   "metadata": {},
   "source": [
    "### <span style=\"color:#4CC9F0\">Media Posterior, E($\\theta | y$):</span>\n",
    "\n",
    "Utilizando familias conjugadas, la media posterior se puede expresar como un promedio ponderado de la media previa y la media muestral con pesos proporcionales al tamaño de la muestra previa y el tamaño de la muestra observado."
   ]
  },
  {
   "cell_type": "markdown",
   "id": "e4ae8a25-fa9a-4783-84de-cac5d2b0c0af",
   "metadata": {},
   "source": [
    "## <span style=\"color:blue\">Familias conjugadas</span>"
   ]
  },
  {
   "cell_type": "markdown",
   "id": "f56ba845-b9b4-468a-bb14-98dd147b1a82",
   "metadata": {},
   "source": [
    "Consiste en encontrar una familia de distribuciones **P** de tal forma que el producto de los miembros de esta familia con la distribución muestral también sea parte de **P**.\n",
    "\n",
    "La familias: Beta Binomial, Gamma Poisson, Gamma Inversa normal normal son sólo algunas de las familias conjugadas que se utilizan en estadística Bayesiana. \n",
    " \n",
    " Veamos la familia Gamma Poisson  como una forma de ejemplicar su funcionamiento."
   ]
  },
  {
   "cell_type": "markdown",
   "id": "b2b3e69d-8f04-4dc4-9177-4ac61208fb5a",
   "metadata": {
    "tags": []
   },
   "source": [
    "### <span style=\"color:#4CC9F0\"> Modelo Gamma Poisson</span>\n",
    "\n",
    "### <span style=\"color:violet\">Modelo Poisson</span>\n",
    "\n",
    "La distribución de Poisson es el equivalente discreto de la distribución normal. Esta distribución se usa en situaciones de conteo asociadas a la ocurrencia de un evento en unidades del espacio o del tiempo. \n",
    "\n",
    "La distribución tiene un parámetro real positivo, usualmente denotado por $\\theta$. Este parámetro puede interpretarse como la rata de ocurrencia del evento contabilizado por unidad de espacio o tiempo. \n",
    "\n",
    "La distribución muestral (distribución condicional conjunta) de $y=(y_1,y_2,...,y_n)$ dado $\\theta$ es:\n",
    "\n",
    "$$p(y|\\theta)=\\frac{\\theta^s e^{-n\\theta}}{\\prod_{i=1}^{n}y_{i}!} $$\n",
    "\n",
    "$\\prod_{i=1}^{n}y_{i}!$ es la constante normalizadora.\n",
    "\n",
    "$s=\\sum_{i=1}^{n} y_i$, lo cual indica que $s$ es un estadístico suficiente para $\\theta$.\n",
    "\n",
    "$$p(\\theta|y)\\propto \\theta ^{s} e^{-n\\theta}p(\\theta) $$\n",
    "$$s|\\theta \\sim Poisson (n\\theta)$$\n",
    "$$\\theta \\sim p(\\theta)$$\n",
    "\n",
    "Veamos a continuación como generar diferentes funciones de densidad de la distribución Poisson conforme varía el parámetro $\\theta$."
   ]
  },
  {
   "cell_type": "code",
   "execution_count": 1,
   "id": "c74c0970-2f02-4306-a94f-d7a43b33968f",
   "metadata": {},
   "outputs": [
    {
     "data": {
      "image/png": "[encoded data removed]",
      "text/plain": [
       "<Figure size 1152x288 with 3 Axes>"
      ]
     },
     "metadata": {
      "needs_background": "light"
     },
     "output_type": "display_data"
    }
   ],
   "source": [
    "# gráficos de la distribución Poisson\n",
    "import matplotlib.pyplot as plt\n",
    "import numpy as np\n",
    "from scipy.stats import poisson\n",
    "\n",
    "theta_params = [0.5, 10, 20 ]\n",
    "\n",
    "x = np.arange(poisson.ppf(0.01, np.min(theta_params)),\n",
    "              poisson.ppf(0.99, np.max(theta_params)))\n",
    "n_row = 1\n",
    "n_col = 3\n",
    "fig, ax = plt.subplots(n_row, n_col, sharex = True, sharey = True, figsize=(16,4))\n",
    "\n",
    "for i in range(3):\n",
    "    theta = theta_params[i]\n",
    "    y  = poisson.pmf(x, theta)\n",
    "    ax[i].vlines(x,0,y,colors='b', lw=10)\n",
    "    ax[i].set_ylim(0,0.62)\n",
    "    ax[i].plot(0,0, label = \"$\\\\theta$ = {:3.1f}\".format(theta), alpha=0 )\n",
    "    ax[i].legend(fontsize=12)\n",
    "    \n",
    "ax[1].set_xlabel('$n$', fontsize = 14)\n",
    "ax[0].set_ylabel('$p(n|\\\\lambda)$',fontsize=14)\n",
    "fig.suptitle('Figura 1. Gráficos de la función de probabilidad de la distribución Poisson',fontsize=16)\n",
    "plt.show()"
   ]
  },
  {
   "cell_type": "markdown",
   "id": "0db61bda-4947-4e90-80d6-914334523d3a",
   "metadata": {},
   "source": [
    "### <span style=\"color:violet\">Distribución Gamma</span>\n",
    "\n",
    "\n",
    "Esta distibución es continua y tiene soporte en los números reales positivos. Tiene dos parámetros reales postivos: una parámetro de forma $\\alpha$ y un parámetro de escala $\\beta$. La función de densidad de probabilidad (fdp) esta dada por\n",
    "\n",
    "$$f(x|\\alpha,\\beta) = Gamma(x;\\alpha,\\beta) = \\frac{\\beta^{\\alpha}}{\\Gamma(\\alpha) }x^{\\alpha-1}e^{-x\\beta}, \\hspace{3mm} \\alpha,\\beta,x >0.$$\n",
    "\n",
    "La figura 2 muestra el gráfico de la función de densidad de la distribución Gamma para diferentes valores de los parámetros.\n",
    "\n"
   ]
  },
  {
   "cell_type": "code",
   "execution_count": 8,
   "id": "c2829404-f0d7-41b0-a181-7f46ac4ee5a5",
   "metadata": {},
   "outputs": [
    {
     "data": {
      "image/png": "[encoded data removed]",
      "text/plain": [
       "<Figure size 864x576 with 9 Axes>"
      ]
     },
     "metadata": {
      "needs_background": "light"
     },
     "output_type": "display_data"
    }
   ],
   "source": [
    "import matplotlib.pyplot as plt\n",
    "import numpy as np\n",
    "from scipy.stats import gamma\n",
    "\n",
    "alpha_params = [1.0, 2.0, 3.0, 5.0, 9.5, 7.5, 0.5, 1.0, 10.0]\n",
    "beta_params  = [2.0, 2.0, 2.0, 1.0, 0.5, 1.0, 1.0, 5.0, 2.0]\n",
    "\n",
    "\n",
    "idx = np.arange(9)\n",
    "\n",
    "row = np.array([0,0,0,1,1,1,2,2,2])\n",
    "col = np.array([0,1,2,0,1,2,0,1,2])\n",
    "x = np.linspace(0,30,200)\n",
    "              \n",
    "fig, ax = plt.subplots(3, 3,sharex = True, sharey = True, figsize=(12,8))\n",
    "for i in idx:\n",
    "    alpha = alpha_params[i]\n",
    "    beta  = beta_params[i]\n",
    "    y = gamma.pdf(x, alpha, loc=0, scale=beta)\n",
    "    ax[col[i],row[i]].set_ylim(0,0.5)\n",
    "    ax[col[i],row[i]].plot(x,y)\n",
    "    ax[col[i],row[i]].plot(0, 0, label=\"$\\\\alpha$ = {:3.2f}\\n$\\\\beta$ = {:3.2f}\".format(alpha, beta), alpha=0)\n",
    "    ax[col[i],row[i]].legend(fontsize=12)\n",
    "ax[2,1].set_xlabel('$\\\\mu$', fontsize=14)\n",
    "ax[1,0].set_ylabel('$p(\\\\mu)$', fontsize=14)\n",
    "fig.suptitle('Figura 2. Gráficos de la función de densidad de la distribución Gama',fontsize=16)\n",
    "plt.show()\n",
    "    "
   ]
  },
  {
   "cell_type": "markdown",
   "id": "cc40055e-175f-4d79-9eb0-994367eb99a6",
   "metadata": {},
   "source": [
    "### <span style=\"color:violet\">Modelo Gamma Poisson</span>\n",
    "\n",
    "\n",
    "Conforme  a la definición de la distribución Gamma note que:\n",
    "\n",
    "$$\\theta \\sim Gamma (a,b)$$\n",
    "\n",
    "$$ Gamma(x;a,b) = \\frac{b^{a}}{\\Gamma(a) }x^{a-1}e^{-b x}, \\hspace{3mm} a,b,x >0.$$\n",
    "\n",
    "Dado que el parámetro de la distribución Poisson es un número real positivo, una posible distribución a priori que puede generar tal parámetro es la distribución Gamma. En tal caso, la distribución posterior también es una distribución Gamma, como se muestra a continuación. Sean $\\mathbf{y}= \\{y_1, \\ldots,y_n\\}$ observaciones provenientes de la distribución $Poisson(\\theta)$. Entonces la verosimilitud $p( \\mathbf{y}|\\theta)$ está dada por\n",
    "\n",
    "$$p(\\mathbf{y}|\\theta) = \\prod_{i=1}^{n} Poisson(y_i;\\theta) \\propto \\theta^{s} e^{-n\\theta}$$\n",
    " \n",
    "Por lo tanto la posterior tiene la forma\n",
    "\n",
    "$$p(\\theta|\\boldsymbol{y}) \\propto p(\\mathbf{y}|\\theta)p(\\theta)= \\left[\\theta^{s} e^{-n\\theta}\\right] \\theta^{a-1}e^{-b \\theta}  = \\theta^{s +a -1 } e^{-(n+b)\\theta},$$\n",
    "\n",
    "Así entonces, la distribución posterior está dada por:\n",
    "\n",
    "$$p(\\theta|\\boldsymbol{y}) = Gamma\\left(s +a, n+b\\right)$$.\n",
    "\n",
    "Observe que $a$ y $b$ son los hiperparámetros de este modelo. Recuerde que $s=\\sum_{i=1}^{n} y_i$."
   ]
  },
  {
   "cell_type": "markdown",
   "id": "889a1dbf-87c0-4504-8f94-4f832e4fbbff",
   "metadata": {},
   "source": [
    "### <span style=\"color:violet\">Media posterior</span>\n"
   ]
  },
  {
   "cell_type": "markdown",
   "id": "d1915286-e61e-467d-9c8b-b369eebff604",
   "metadata": {},
   "source": [
    "Como la distribición posterior  es Gamma($a+s,b+n$) la media posterior está definida de la siguiente manera:\n",
    "\n",
    "$$E(\\theta|y)=\\frac{a+s}{b+n}=\\frac{b}{b+n}\\frac{a}{b}+\\frac{n}{b+n}\\frac{s}{n}$$\n",
    "\n",
    "Esto corresponde a un promedio ponderado del valor esperado previo y la media muestral."
   ]
  },
  {
   "cell_type": "markdown",
   "id": "df0c583d-0767-480d-939f-8735a432ccd5",
   "metadata": {},
   "source": [
    "### <span style=\"color:violet\">Predictiva  posterior</span>"
   ]
  },
  {
   "cell_type": "markdown",
   "id": "a9e2dc11-352f-404d-89e4-079539147b84",
   "metadata": {},
   "source": [
    "Por medio de la distribución predictiva posterior se caracterizan diversos aspectos de una observación futura  como la varianza predictiva. Para este  caso:\n",
    "\n",
    "$$y*|y \\sim BN(a+s,b+n) $$\n",
    "    "
   ]
  },
  {
   "cell_type": "markdown",
   "id": "f3dad80b-a22d-4758-85ac-4f4f33036e95",
   "metadata": {},
   "source": [
    "**Retomando...**\n",
    "\n",
    "En general conocemos el modelo de regresión lineal como una expresión dada de la siguiente manera:$$Y=X\\beta + \\epsilon$$\n",
    "\n",
    "Donde $Y$ es el vector de variables dependientes o de respuesta, $X$  es la matriz de variables independientes, $\\beta$ corresponde al vector de coefientes y $\\epsilon$ corresponde al vector de errores no observables el cual se supone con distribucion normal con media $\\mu=0$ y matriz de varianza y covarianza  $\\sigma^2 I_n$, es decir $\\epsilon \\sim N(0,\\sigma^{2} I_n)$. Por lo que $Y\\sim N_{n} (X\\beta,\\sigma^2 I_n)$.\n",
    "\n",
    "Ahora bien,  de acuerdo a lo ya estudiado anteriormente, los parámetros también son variables aleatorias los cuales  no corresponden a estimaciones puntuales sino a distribuciones de probabilidad.\n",
    "\n",
    "Veamos a continuación algunos ejemplos de regresión bayesiana..."
   ]
  },
  {
   "cell_type": "markdown",
   "id": "06fee1e1-f6b0-4c28-a32b-4e91e698fb12",
   "metadata": {},
   "source": [
    "## <span style=\"color:blue\">Ejemplos de modelos de regresión Bayesiana</span>"
   ]
  },
  {
   "cell_type": "markdown",
   "id": "3b5aa7fc-0ce9-4f76-a855-5682ad5529fb",
   "metadata": {},
   "source": [
    "### <span style=\"color:#4CC9F0\">Ejemplo 1: Modelo de regresión lineal Gaussiano </span>\n",
    "\n",
    "\n",
    "En este caso el modelo estadístico es definido por\n",
    "\n",
    "$$\n",
    "\\begin{align}\n",
    "E[y_i] &= \\mu_i =  \\alpha +  \\mathbf{x_i}^T\\mathbf{\\beta} \\\\\n",
    "\\ln \\sigma_i &= \\eta +\\mathbf{z_i}^T\\mathbf{\\nu} \\\\\n",
    "\\alpha &\\sim \\mathcal{N}(\\mu_{\\alpha},\\sigma_{\\alpha}^2)\\\\\n",
    "\\mathbf{\\beta} &\\sim \\mathcal{N}(\\mathbf{\\mu}_{\\beta},\\rho_{\\beta}^2\\mathbf{I})\\\\\n",
    "\\eta &\\sim \\mathcal{N}(\\mu_{\\eta},\\sigma_{\\eta}^2)\\\\\n",
    "\\mathbf{\\nu} &\\sim \\mathcal{N}(\\mathbf{\\mu}_{\\nu},\\rho_{\\nu}^2\\mathbf{I})\\\\\n",
    "y_i &\\sim \\mathcal{N}(\\mu_i,\\sigma_i^2), \\hspace{3mm} i =1,\\ldots,n\n",
    "\\end{align}\n",
    "$$\n",
    "\n",
    "\n",
    "\n",
    "El parámetro del problema es $\\mathbf{\\theta} = (\\alpha,\\eta, \\mathbf{\\beta}^T,\\mathbf{\\nu}^T)^T$. \n",
    "\n",
    "En el caso homocedástico, se tiene que $\\sigma_i^2 = \\sigma^2$.\n",
    "\n",
    "### <span style=\"color:#4CC9F0\">Ejemplo 2: Modelo regresión Binomial</span>\n",
    "\n",
    "\n",
    "La función *inv_logit* es definida por $\\text{inv_logit}(x) = (1+ \\exp (-x))^{-1}$. Esta es la función de distribución acumulada logística.\n",
    "\n",
    "El modelo Binomial de regresión se define por\n",
    "\n",
    "\n",
    "$$\n",
    "\\begin{align}\n",
    "E[y_i] &= \\mu_i= N_i\\pi_i\\\\\n",
    "\\pi_i &=  \\text{inv_logit}(\\alpha +  \\mathbf{x_i}^T\\mathbf{\\beta}) \\\\\n",
    "\\alpha &\\sim \\mathcal{N}(\\mu_{\\alpha},\\sigma_{\\alpha}^2)\\\\\n",
    "\\mathbf{\\beta} &\\sim \\mathcal{N}(\\mathbf{\\mu}_{\\beta},\\rho_{\\beta}^2\\mathbf{I})\\\\\n",
    "y_i &\\sim \\text{Binomial}(N_i,\\pi_i), \\hspace{3mm} i =1,\\ldots,n.\n",
    "\\end{align}\n",
    "$$\n",
    "\n",
    "Los valores $N_i$ se asumen conocidos. En este caso se tiene que $Var[y_i] = N_i\\pi_i(1-\\pi)$, por lo que $\\sigma_i =\\sqrt{N_i\\pi_i(1-\\pi)} $. \n",
    "\n",
    "El parámetro del problema es $\\mathbf{\\theta} = (\\alpha, \\mathbf{\\beta}^T)^T$.\n",
    "\n",
    "### <span style=\"color:#4CC9F0\">Ejemplo 3: Modelo de regresión Poisson</span>\n",
    "\n",
    "\n",
    "El modelo Poisson de regresión se define por\n",
    "\n",
    "\n",
    "$$\n",
    "\\begin{align}\n",
    "E[y_i] &= \\mu_i\\\\\n",
    "\\ln \\mu_i&=  \\alpha +  \\mathbf{x_i}^T\\mathbf{\\beta}\\\\\n",
    "\\alpha &\\sim \\mathcal{N}(\\mu_{\\alpha},\\sigma_{\\alpha}^2)\\\\\n",
    "\\mathbf{\\beta} &\\sim \\mathcal{N}(\\mathbf{\\mu}_{\\beta},\\rho_{\\beta}^2\\mathbf{I})\\\\\n",
    "y_i &\\sim \\text{Poisson}(\\mu_i), \\hspace{3mm} i =1,\\ldots,n.\n",
    "\\end{align}\n",
    "$$\n",
    "\n",
    "El parámetro del problema es $\\mathbf{\\theta} = (\\alpha, \\mathbf{\\beta}^T)^T$. Se tiene que $\\sigma_i = \\sqrt{\\mu_i}$\n",
    "\n",
    "[Fuente: AP](https://github.com/AprendizajeProfundo/Estadistica-Bayesiana/blob/master/cuadernos/Modelos_Bayesianos_Regresion.ipynb)"
   ]
  },
  {
   "cell_type": "markdown",
   "id": "e5c0364f-79e0-4c3c-bae6-cdf72edb7404",
   "metadata": {},
   "source": [
    "<figure> \n",
    "<img src=\"https://www.bing.com/th?id=OSK.b0330f66e0a38573e790ec817ff3c616&w=156&h=112&c=7&o=6&pid=SANGAM\"  width=\"50\" height=\"50\" align=\"left\"/> \n",
    "</figure>\n",
    "\n",
    "### <span style=\"color:#4CC9F0\">Regresión de cresta Bayesiana con scikitlearn</span>\n",
    "\n",
    "La regresión bayesiana permite que un mecanismo natural sobreviva a datos insuficientes o datos mal distribuidos mediante la formulación de regresión lineal utilizando distribuidores de probabilidad en lugar de estimaciones puntuales. Se supone que la salida o respuesta 'y' se extrae de una distribución de probabilidad en lugar de estimarse como un valor único.\n",
    "\n",
    "La librería sklearn de Python nor permite llevar a cabo la regresión de cresta bayesiana en pocas líneas de código, como se muestra a cintinuación:\n"
   ]
  },
  {
   "cell_type": "code",
   "execution_count": 1,
   "id": "eae58261-c121-41f7-a4d0-714db8792c92",
   "metadata": {},
   "outputs": [
    {
     "data": {
      "text/html": [
       "<style>#sk-container-id-1 {color: black;background-color: white;}#sk-container-id-1 pre{padding: 0;}#sk-container-id-1 div.sk-toggleable {background-color: white;}#sk-container-id-1 label.sk-toggleable__label {cursor: pointer;display: block;width: 100%;margin-bottom: 0;padding: 0.3em;box-sizing: border-box;text-align: center;}#sk-container-id-1 label.sk-toggleable__label-arrow:before {content: \"▸\";float: left;margin-right: 0.25em;color: #696969;}#sk-container-id-1 label.sk-toggleable__label-arrow:hover:before {color: black;}#sk-container-id-1 div.sk-estimator:hover label.sk-toggleable__label-arrow:before {color: black;}#sk-container-id-1 div.sk-toggleable__content {max-height: 0;max-width: 0;overflow: hidden;text-align: left;background-color: #f0f8ff;}#sk-container-id-1 div.sk-toggleable__content pre {margin: 0.2em;color: black;border-radius: 0.25em;background-color: #f0f8ff;}#sk-container-id-1 input.sk-toggleable__control:checked~div.sk-toggleable__content {max-height: 200px;max-width: 100%;overflow: auto;}#sk-container-id-1 input.sk-toggleable__control:checked~label.sk-toggleable__label-arrow:before {content: \"▾\";}#sk-container-id-1 div.sk-estimator input.sk-toggleable__control:checked~label.sk-toggleable__label {background-color: #d4ebff;}#sk-container-id-1 div.sk-label input.sk-toggleable__control:checked~label.sk-toggleable__label {background-color: #d4ebff;}#sk-container-id-1 input.sk-hidden--visually {border: 0;clip: rect(1px 1px 1px 1px);clip: rect(1px, 1px, 1px, 1px);height: 1px;margin: -1px;overflow: hidden;padding: 0;position: absolute;width: 1px;}#sk-container-id-1 div.sk-estimator {font-family: monospace;background-color: #f0f8ff;border: 1px dotted black;border-radius: 0.25em;box-sizing: border-box;margin-bottom: 0.5em;}#sk-container-id-1 div.sk-estimator:hover {background-color: #d4ebff;}#sk-container-id-1 div.sk-parallel-item::after {content: \"\";width: 100%;border-bottom: 1px solid gray;flex-grow: 1;}#sk-container-id-1 div.sk-label:hover label.sk-toggleable__label {background-color: #d4ebff;}#sk-container-id-1 div.sk-serial::before {content: \"\";position: absolute;border-left: 1px solid gray;box-sizing: border-box;top: 0;bottom: 0;left: 50%;z-index: 0;}#sk-container-id-1 div.sk-serial {display: flex;flex-direction: column;align-items: center;background-color: white;padding-right: 0.2em;padding-left: 0.2em;position: relative;}#sk-container-id-1 div.sk-item {position: relative;z-index: 1;}#sk-container-id-1 div.sk-parallel {display: flex;align-items: stretch;justify-content: center;background-color: white;position: relative;}#sk-container-id-1 div.sk-item::before, #sk-container-id-1 div.sk-parallel-item::before {content: \"\";position: absolute;border-left: 1px solid gray;box-sizing: border-box;top: 0;bottom: 0;left: 50%;z-index: -1;}#sk-container-id-1 div.sk-parallel-item {display: flex;flex-direction: column;z-index: 1;position: relative;background-color: white;}#sk-container-id-1 div.sk-parallel-item:first-child::after {align-self: flex-end;width: 50%;}#sk-container-id-1 div.sk-parallel-item:last-child::after {align-self: flex-start;width: 50%;}#sk-container-id-1 div.sk-parallel-item:only-child::after {width: 0;}#sk-container-id-1 div.sk-dashed-wrapped {border: 1px dashed gray;margin: 0 0.4em 0.5em 0.4em;box-sizing: border-box;padding-bottom: 0.4em;background-color: white;}#sk-container-id-1 div.sk-label label {font-family: monospace;font-weight: bold;display: inline-block;line-height: 1.2em;}#sk-container-id-1 div.sk-label-container {text-align: center;}#sk-container-id-1 div.sk-container {/* jupyter's `normalize.less` sets `[hidden] { display: none; }` but bootstrap.min.css set `[hidden] { display: none !important; }` so we also need the `!important` here to be able to override the default hidden behavior on the sphinx rendered scikit-learn.org. See: https://github.com/scikit-learn/scikit-learn/issues/21755 */display: inline-block !important;position: relative;}#sk-container-id-1 div.sk-text-repr-fallback {display: none;}</style><div id=\"sk-container-id-1\" class=\"sk-top-container\"><div class=\"sk-text-repr-fallback\"><pre>BayesianRidge()</pre><b>In a Jupyter environment, please rerun this cell to show the HTML representation or trust the notebook. <br />On GitHub, the HTML representation is unable to render, please try loading this page with nbviewer.org.</b></div><div class=\"sk-container\" hidden><div class=\"sk-item\"><div class=\"sk-estimator sk-toggleable\"><input class=\"sk-toggleable__control sk-hidden--visually\" id=\"sk-estimator-id-1\" type=\"checkbox\" checked><label for=\"sk-estimator-id-1\" class=\"sk-toggleable__label sk-toggleable__label-arrow\">BayesianRidge</label><div class=\"sk-toggleable__content\"><pre>BayesianRidge()</pre></div></div></div></div></div>"
      ],
      "text/plain": [
       "BayesianRidge()"
      ]
     },
     "execution_count": 1,
     "metadata": {},
     "output_type": "execute_result"
    }
   ],
   "source": [
    "from sklearn import linear_model\n",
    "X = [[0., 0.], [1., 1.], [2., 2.], [3., 3.]]\n",
    "Y = [0., 1., 2., 3.]\n",
    "reg = linear_model.BayesianRidge()\n",
    "reg.fit(X, Y)\n"
   ]
  },
  {
   "cell_type": "markdown",
   "id": "f4253198-264c-4fd1-9074-df8f38d8b2b2",
   "metadata": {},
   "source": [
    "Después de ser instalado, el modelo se puede utilizar para predecir nuevos valores:"
   ]
  },
  {
   "cell_type": "code",
   "execution_count": 2,
   "id": "68d39f4c-584b-4ad9-ba7d-fb1f03469c17",
   "metadata": {},
   "outputs": [
    {
     "data": {
      "text/plain": [
       "array([0.50000013])"
      ]
     },
     "execution_count": 2,
     "metadata": {},
     "output_type": "execute_result"
    }
   ],
   "source": [
    "reg.predict([[1, 0.]])"
   ]
  },
  {
   "cell_type": "markdown",
   "id": "cf4fc09e-77f0-4e9d-8bf1-1ffc1068d106",
   "metadata": {},
   "source": [
    "Se puede acceder a los coeficientes del modelo:"
   ]
  },
  {
   "cell_type": "code",
   "execution_count": 3,
   "id": "5c5be1a6-a9cf-4af7-8127-7b131d60812a",
   "metadata": {},
   "outputs": [
    {
     "data": {
      "text/plain": [
       "array([0.49999993, 0.49999993])"
      ]
     },
     "execution_count": 3,
     "metadata": {},
     "output_type": "execute_result"
    }
   ],
   "source": [
    "reg.coef_"
   ]
  },
  {
   "cell_type": "markdown",
   "id": "d2643a59-87ac-4c30-b7ce-f8105667dc44",
   "metadata": {},
   "source": [
    "Debido al marco bayesiano, los pesos encontrados son ligeramente diferentes a los encontrados por los mínimos cuadrados ordinarios. Sin embargo, la regresión de cresta bayesiana es más robusta a los problemas mal planteados.\n",
    "[Fuente:scikitlearn](https://scikit-learn.org/stable/modules/linear_model.html#bayesian-regression)"
   ]
  },
  {
   "cell_type": "markdown",
   "id": "3dc89ba4-ad92-4ef2-a3b2-1874f21a3787",
   "metadata": {},
   "source": [
    "<figure> \n",
    "<img src=\"https://upload.wikimedia.org/wikipedia/commons/thumb/1/1b/R_logo.svg/100px-R_logo.svg.png\"  width=\"50\" height=\"50\" align=\"left\"/> \n",
    "</figure>\n",
    "\n",
    "### <span style=\"color:#4CC9F0\">egresion Bayesiana con R</span>\n",
    "Veamos una manera de llevar a cabo un modelo de regresión lineal Bayesiana utilizando la librerìa de R \"MCMCpack\" el cual utiliza simulaciones de Monte Carlo.\n"
   ]
  },
  {
   "cell_type": "code",
   "execution_count": null,
   "id": "4d9a7a08-6ac8-4427-819e-86cee6e0b185",
   "metadata": {},
   "outputs": [],
   "source": [
    "library(MCMCpack)\n",
    "tabla <- list(X=c(10,20,0,25,35,40), Y=c(1,2,4,6,8,9))\n",
    "bayes <- MCMCregress(Y~X, data=tabla)\n",
    "summary(bayes)\n",
    "plot(bayes)"
   ]
  },
  {
   "cell_type": "markdown",
   "id": "550d0641-ed22-4017-9196-7e674cde08db",
   "metadata": {},
   "source": [
    "El modelo resultante junto con los quantiles para cada variable fue:"
   ]
  },
  {
   "cell_type": "code",
   "execution_count": null,
   "id": "797d6a6d",
   "metadata": {},
   "outputs": [],
   "source": [
    "Iterations = 1001:11000\n",
    "Thinning interval = 1 \n",
    "Number of chains = 1 \n",
    "Sample size per chain = 10000 \n",
    "\n",
    "1. Empirical mean and standard deviation for each variable,\n",
    "   plus standard error of the mean:\n",
    "\n",
    "              Mean       SD  Naive SE Time-series SE\n",
    "(Intercept) 1.3959  2.37266 0.0237266      0.0238584\n",
    "X           0.1673  0.09314 0.0009314      0.0009131\n",
    "sigma2      9.9190 16.47999 0.1647999      0.2577445\n",
    "\n",
    "2. Quantiles for each variable:\n",
    "\n",
    "                2.5%    25%    50%     75%  97.5%\n",
    "(Intercept) -3.16673 0.1242 1.3815  2.6202  6.180\n",
    "X           -0.01748 0.1185 0.1676  0.2174  0.351\n",
    "sigma2       1.82932 3.7406 6.0060 10.3507 42.764\n"
   ]
  },
  {
   "cell_type": "markdown",
   "id": "a95fac36-9940-4379-b7c6-39464465948c",
   "metadata": {},
   "source": [
    "Las gráficas de las cadenas (al haber utilizado simulaciones de Monte Carlo) para cada variable dadas las 10000 iteraciones muetran convergencia en la estimación de los parámetros."
   ]
  },
  {
   "cell_type": "markdown",
   "id": "cb043420-d16f-41f1-824b-a214c3334b25",
   "metadata": {},
   "source": [
    "<figure> \n",
    "<center>\n",
    "<img src=\"https://github.com/Jeslome/Proyecto/blob/main/Bayesiana/Imagenes/MC.png?raw=true\"  width=\"500\" height=\"500\" align=\"center\"/>\n",
    "<figcaption> </figcaption>\n",
    "</center>\n",
    "</figure>\n",
    "\n"
   ]
  },
  {
   "cell_type": "markdown",
   "id": "ed492633-da87-4043-a8bf-ab29936b0630",
   "metadata": {},
   "source": [
    "Este ejemplo es una adaptación de la implemetación en R del modelo  lineal Bayesiano en R dado por\n",
    "[Victor A.Rico](https://ricovictor.com/index.php/2020/09/25/regresion-lineal-bayesiana/)."
   ]
  },
  {
   "cell_type": "markdown",
   "id": "eea22b4e-f9f8-46b9-b7a9-8b1c926e10b5",
   "metadata": {},
   "source": [
    "### <span style=\"color:#4CC9F0\">Regresión lineal  Bayesiana con...</span>\n",
    "\n",
    "<figure> \n",
    "<img src=\"http://pyro.ai/img/pyro_logo.png\"  width=\"50\" height=\"50\" align=\"left\"/> \n",
    "</figure>\n",
    "\n",
    "\n",
    "### <span style=\"color:#4CC9F0\">yro</span>\n"
   ]
  },
  {
   "cell_type": "markdown",
   "id": "ad21101a-b262-4bd1-adfe-00ed4d8f22d7",
   "metadata": {},
   "source": [
    "### <span style=\"color:blue\">Ejercicio</span>"
   ]
  },
  {
   "cell_type": "code",
   "execution_count": null,
   "id": "16150e89-c783-4cc9-9a4c-5a69b7f8d932",
   "metadata": {},
   "outputs": [],
   "source": []
  }
 ],
 "metadata": {
  "celltoolbar": "Tags",
  "kernelspec": {
   "display_name": "Python 3 (ipykernel)",
   "language": "python",
   "name": "python3"
  },
  "language_info": {
   "codemirror_mode": {
    "name": "ipython",
    "version": 3
   },
   "file_extension": ".py",
   "mimetype": "text/x-python",
   "name": "python",
   "nbconvert_exporter": "python",
   "pygments_lexer": "ipython3",
   "version": "3.9.12"
  }
 },
 "nbformat": 4,
 "nbformat_minor": 5
}
