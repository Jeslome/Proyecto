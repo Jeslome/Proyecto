{
 "cells": [
  {
   "cell_type": "markdown",
   "id": "367e3c32-d859-47df-a040-8b23f257637d",
   "metadata": {},
   "source": [
    "<h1 style=\"color:Purple;\"><strong>Regresión Polinómica</strong></h1"
   ]
  },
  {
   "cell_type": "code",
   "execution_count": 5,
   "id": "625adb35-f91f-4f7d-9845-9fb3b2758c76",
   "metadata": {},
   "outputs": [
    {
     "data": {
      "image/png": "[encoded data removed]",
      "text/plain": [
       "<Figure size 432x288 with 1 Axes>"
      ]
     },
     "metadata": {
      "needs_background": "light"
     },
     "output_type": "display_data"
    }
   ],
   "source": [
    "import numpy\n",
    "import matplotlib.pyplot as plt\n",
    "\n",
    "x = [1,2,3,5,6,7,8,9,10,12,13,14,15,16,18,19,21,22,23,24,25,26,27,28,29,30,31]\n",
    "y = [100,50,40,40,50,55,30,35,40,60,85,86,78,69,80,89,99,90,92,95,87,90,98,97,93,95,100]\n",
    "\n",
    "mymodel = numpy.poly1d(numpy.polyfit(x, y, 3))\n",
    "\n",
    "myline = numpy.linspace(1, 31, 100)\n",
    "\n",
    "plt.scatter(x, y)\n",
    "plt.plot(myline, mymodel(myline))\n",
    "plt.show()\n"
   ]
  },
  {
   "cell_type": "markdown",
   "id": "49deffd3-1396-44a2-8e0c-47f28c3faaee",
   "metadata": {},
   "source": [
    "<h1 style=\"color:Purple;\"><strong>¿Qué es la regresión?</strong></h1"
   ]
  },
  {
   "cell_type": "markdown",
   "id": "962627bf-dc99-4cab-9051-3feed6c83765",
   "metadata": {},
   "source": [
    "La regresión se define como el método para encontrar la relación entre las variables independientes y dependientes para estimar el resultado.\n",
    "\n",
    "En complemento, el análisis de regresión es una técnica estadística para investigar y modelar la relación entre\n",
    "variables. \n",
    "\n",
    "Fuente: Montgomery, Peck, Vining, via Introducción al análisis de regresión lineal. 3 edición, 2006."
   ]
  },
  {
   "cell_type": "markdown",
   "id": "24f7cd08-bfa4-4ec8-9650-2df4dde3f314",
   "metadata": {},
   "source": [
    "<h1 style=\"color:Purple;\"><strong>Historia</strong></h1"
   ]
  },
  {
   "cell_type": "code",
   "execution_count": 2,
   "id": "f2052465-0d53-42e8-91bf-9378b0b852df",
   "metadata": {},
   "outputs": [
    {
     "data": {
      "text/html": [
       "<img src=\"Gergonne.jpeg\"/>"
      ],
      "text/plain": [
       "<IPython.core.display.Image object>"
      ]
     },
     "execution_count": 2,
     "metadata": {},
     "output_type": "execute_result"
    }
   ],
   "source": [
    "# import image module\n",
    "from IPython.display import Image\n",
    "  \n",
    "# get the image\n",
    "Image(url=\"Gergonne.jpeg\")"
   ]
  },
  {
   "cell_type": "markdown",
   "id": "e591e23b-0422-49e7-a49e-44f93500b109",
   "metadata": {
    "tags": []
   },
   "source": [
    "Fuente: MacTutor, https://mathshistory.st-andrews.ac.uk/Biographies/Gergonne/pictdisplay/"
   ]
  },
  {
   "cell_type": "markdown",
   "id": "10172e29-4276-4f62-8dd3-19bdbaef49dd",
   "metadata": {},
   "source": [
    "Joseph Diez Gergonne (19 de junio de 1771 en Nancy, Francia - 4 de mayo de 1859 en Montpellier, Francia) fue un matemático y lógico francés.\n",
    "En 1815, Gergonne escribió el primer artículo sobre el diseño óptimo de experimentos para la regresión polinomial.\n",
    "\n",
    "En el siglo XX, la regresión polinomial jugó un papel importante en el desarrollo del análisis de regresión, con un mayor énfasis en cuestiones de diseño e inferencia.4 Más recientemente, el uso de modelos polinomiales se ha complementado con otros métodos, y los modelos no polinomiales tienen ventajas para algunas clases de problemas.\n",
    "\n",
    "Fuente: https://es.wikipedia.org/wiki/Regresi%C3%B3n_polinomial"
   ]
  },
  {
   "cell_type": "markdown",
   "id": "9c374b78-f8a3-4105-9702-dd0e70ffcdf1",
   "metadata": {},
   "source": [
    "<h1 style=\"color:Purple;\"><strong>¿Por qué la regresión polinomial?</strong></h1>\n",
    "\n",
    "\n",
    "Los polinomios se usan mucho en casos en los que la respuesta es curvilínea, y aun las\n",
    "relaciones no lineales complejas se pueden modelar en forma adecuada con polinomios dentro\n",
    "de límites razonablemente pequeños de las x.\n",
    "\n",
    "\n",
    "Fuente: Montgomery, Peck, Vining, via Introducción al análisis de regresión lineal. 3 edición, 2006."
   ]
  },
  {
   "cell_type": "code",
   "execution_count": null,
   "id": "69134537-9eb0-4c2d-84f6-268b5feae76b",
   "metadata": {},
   "outputs": [],
   "source": []
  }
 ],
 "metadata": {
  "kernelspec": {
   "display_name": "Python 3",
   "language": "python",
   "name": "python3"
  },
  "language_info": {
   "codemirror_mode": {
    "name": "ipython",
    "version": 3
   },
   "file_extension": ".py",
   "mimetype": "text/x-python",
   "name": "python",
   "nbconvert_exporter": "python",
   "pygments_lexer": "ipython3",
   "version": "3.8.8"
  }
 },
 "nbformat": 4,
 "nbformat_minor": 5
}
