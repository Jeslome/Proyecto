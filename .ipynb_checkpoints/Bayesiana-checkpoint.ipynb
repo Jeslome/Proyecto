{
 "cells": [
  {
   "cell_type": "markdown",
   "id": "c2eca296-4692-4cc4-9238-d81ba5cd1d78",
   "metadata": {},
   "source": [
    "# Regresión Bayesiana "
   ]
  },
  {
   "cell_type": "markdown",
   "id": "e6b35c03-5bf3-4b0b-aaed-dfa6df257da3",
   "metadata": {},
   "source": [
    "<img src=\"https://th.bing.com/th/id/R.3bff0ba279f0ed7d508c5e7da683af52?rik=Z2ty6vcIEsLQLw&riu=http%3a%2f%2fblogs.upn.edu.pe%2fcomunicaciones%2fwp-content%2fuploads%2fsites%2f3%2f2016%2f07%2fupn_blog_com_era-digital-sociedad-conocimiento_21jul.jpg&ehk=Fwupl%2beIQQwF9K58bfG4lVRr9EbtqhK0373Mr%2bC%2bkdU%3d&risl=&pid=ImgRaw&r=0=5x5\" width=\"500\" height=\"500\">\n",
    "\n",
    "[Fuente](https://blogs.upn.edu.pe/comunicaciones/2016/07/21/digital-sociedad-del-conocimiento/)"
   ]
  },
  {
   "cell_type": "markdown",
   "id": "ef086a00-006e-4680-878c-4ea7059a82fa",
   "metadata": {},
   "source": [
    "\n"
   ]
  },
  {
   "cell_type": "markdown",
   "id": "ff3963e9-0a29-4f0e-a7f8-cdffc8fc0b6c",
   "metadata": {},
   "source": [
    "## Introducción\n",
    "\n",
    "La regresión lineal Bayesiana se  refiere a un tipo de regresión lineal  que se basa en la estadística bayesiana, es decir, en el teorema de Bayes."
   ]
  },
  {
   "cell_type": "markdown",
   "id": "fbd546d8-e3ab-4666-af21-5817269aea76",
   "metadata": {},
   "source": [
    "## Nota Histórica\n",
    "Las aportaciones de Turing a la estadística Bayesiana se desarrollaron en relación con el algoritmo “bamburismus” que sirvió para desencriptar los mensajes enviados por la armada naval germana, durante la Segunda Guerra Mundial, usando la máquina Enigma. Dichos mensajes eran de capital importancia para la población británica cuyo abastecimiento dependía de manera crítica de la supervivencia de los convoyes marítimos aliados.\n",
    "\n",
    "El famoso estadístico Bayesiano, Irwing J. Good, quien a principios de los años 40 del siglo pasado trabajaba como ayudante de Turing en Bletchley Park, explica en un artículo publicado en Biometrika (I. J. Good, 1979) las aportaciones metodológicas de Turing a la teoría Bayesiana, tanto al denominado peso de la evidencia como a la introducción de un test de hipótesis basado en la razón de verosimilitudes con el que confrontar hipótesis nulas y alternativas.  Gracias a recientes desclasificaciones de documentos relacionados con el “bamburismus” por parte del gobierno americano, conocemos que dicho algoritmo se fundamenta en el test de hipótesis diseñado por Turing.[Fuente](https://blogs.elpais.com/turing/2012/12/alan-turing-y-la-estadistica-bayesiana.html)\n",
    "\n",
    "<img src=\"https://th.bing.com/th/id/R.5f9ace9f628d3586696b562562f891f5?rik=SK6fuTfqjUmUlw&pid=ImgRaw&r=0\" width=\"200\" height=\"200\">\n",
    "\n",
    "[Fuente](http://laverdadteharalibre6.blogspot.com/2014/03/alan-turing.html)"
   ]
  },
  {
   "cell_type": "markdown",
   "id": "d1873f49-8936-43c0-adb1-5d8fbab0a1bc",
   "metadata": {},
   "source": [
    "## Fundamento Matemático"
   ]
  },
  {
   "cell_type": "code",
   "execution_count": null,
   "id": "032f39fa-3b91-4541-8ce3-bae1126ee39f",
   "metadata": {},
   "outputs": [],
   "source": []
  }
 ],
 "metadata": {
  "kernelspec": {
   "display_name": "Python 3 (ipykernel)",
   "language": "python",
   "name": "python3"
  },
  "language_info": {
   "codemirror_mode": {
    "name": "ipython",
    "version": 3
   },
   "file_extension": ".py",
   "mimetype": "text/x-python",
   "name": "python",
   "nbconvert_exporter": "python",
   "pygments_lexer": "ipython3",
   "version": "3.9.12"
  }
 },
 "nbformat": 4,
 "nbformat_minor": 5
}
