{
 "cells": [
  {
   "cell_type": "markdown",
   "id": "c2eca296-4692-4cc4-9238-d81ba5cd1d78",
   "metadata": {},
   "source": [
    "# Regresión Bayesiana "
   ]
  },
  {
   "cell_type": "code",
   "execution_count": null,
   "id": "732a1da0-e907-4e0e-a8d6-c0a59aa28526",
   "metadata": {},
   "outputs": [],
   "source": [
    "![Imagen de motivaci](https://github.com/Jeslome/Proyecto/blob/main/Images/books-gbdf074944_1920.jpg?raw=true)"
   ]
  },
  {
   "cell_type": "code",
   "execution_count": null,
   "id": "d8f80a01-f70b-4478-b4e2-c5886419499c",
   "metadata": {},
   "outputs": [],
   "source": []
  }
 ],
 "metadata": {
  "kernelspec": {
   "display_name": "Python 3 (ipykernel)",
   "language": "python",
   "name": "python3"
  },
  "language_info": {
   "codemirror_mode": {
    "name": "ipython",
    "version": 3
   },
   "file_extension": ".py",
   "mimetype": "text/x-python",
   "name": "python",
   "nbconvert_exporter": "python",
   "pygments_lexer": "ipython3",
   "version": "3.9.12"
  }
 },
 "nbformat": 4,
 "nbformat_minor": 5
}
