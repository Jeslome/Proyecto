{
 "cells": [
  {
   "cell_type": "markdown",
   "id": "c2eca296-4692-4cc4-9238-d81ba5cd1d78",
   "metadata": {},
   "source": [
    "# Regresión Bayesiana "
   ]
  },
  {
   "cell_type": "code",
   "execution_count": null,
   "id": "7b16d514-630d-4c05-827c-236346ff5a63",
   "metadata": {},
   "outputs": [],
   "source": [
    "\n",
    "<img src=\"https://github.com/Jeslome/Proyecto/blob/main/Imagenes/Bayesiana/books-gbdf074944_1920.jpg?raw=true\" width=\"450\" />"
   ]
  },
  {
   "cell_type": "markdown",
   "id": "ef086a00-006e-4680-878c-4ea7059a82fa",
   "metadata": {},
   "source": [
    "\n"
   ]
  },
  {
   "cell_type": "code",
   "execution_count": null,
   "id": "25aaef63-3683-4c40-9eb2-28f0cfd60ac4",
   "metadata": {},
   "outputs": [],
   "source": []
  }
 ],
 "metadata": {
  "kernelspec": {
   "display_name": "Python 3 (ipykernel)",
   "language": "python",
   "name": "python3"
  },
  "language_info": {
   "codemirror_mode": {
    "name": "ipython",
    "version": 3
   },
   "file_extension": ".py",
   "mimetype": "text/x-python",
   "name": "python",
   "nbconvert_exporter": "python",
   "pygments_lexer": "ipython3",
   "version": "3.9.12"
  }
 },
 "nbformat": 4,
 "nbformat_minor": 5
}
