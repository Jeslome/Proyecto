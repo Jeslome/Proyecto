{
 "cells": [
  {
   "cell_type": "markdown",
   "id": "c2eca296-4692-4cc4-9238-d81ba5cd1d78",
   "metadata": {},
   "source": [
    "# Regresión Bayesiana "
   ]
  },
  {
   "cell_type": "code",
   "execution_count": null,
   "id": "7b5a8fb6-1af0-4c3f-8c3c-cd2fca913000",
   "metadata": {},
   "outputs": [],
   "source": [
    "<img src=\"https://github.com/Jeslome/Proyecto/blob/d766031c972c044bfc8f7dc240f7aa186e5f534c/Images/books-gbdf074944_1920.jpg?raw=true\" width=\"450\" />"
   ]
  },
  {
   "cell_type": "code",
   "execution_count": null,
   "id": "d8f80a01-f70b-4478-b4e2-c5886419499c",
   "metadata": {},
   "outputs": [],
   "source": [
    "\n"
   ]
  },
  {
   "cell_type": "code",
   "execution_count": null,
   "id": "25aaef63-3683-4c40-9eb2-28f0cfd60ac4",
   "metadata": {},
   "outputs": [],
   "source": []
  }
 ],
 "metadata": {
  "kernelspec": {
   "display_name": "Python 3 (ipykernel)",
   "language": "python",
   "name": "python3"
  },
  "language_info": {
   "codemirror_mode": {
    "name": "ipython",
    "version": 3
   },
   "file_extension": ".py",
   "mimetype": "text/x-python",
   "name": "python",
   "nbconvert_exporter": "python",
   "pygments_lexer": "ipython3",
   "version": "3.9.12"
  }
 },
 "nbformat": 4,
 "nbformat_minor": 5
}
