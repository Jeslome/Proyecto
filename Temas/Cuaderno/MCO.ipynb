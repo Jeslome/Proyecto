{
 "cells": [
  {
   "cell_type": "markdown",
   "metadata": {
    "id": "-78oHnYB-YZh"
   },
   "source": [
    "# <span style=\"color:red\"><center>Mínimos cuadrados ordinarios<center></span>\n"
   ]
  },
  {
   "cell_type": "markdown",
   "metadata": {
    "id": "GQDMrJE9VT1_"
   },
   "source": [
    "<figure> \n",
    "<center>\n",
    "<img src=\"https://github.com/Jeslome/Proyecto/blob/main/Temas/Imagenes/hd-wallpaper-1867616_1920.jpg?raw=true\"  width=\"800\" height=\"800\" align=\"center\"/>\n",
    "<figcaption> </figcaption>\n",
    "</center>\n",
    "</figure>\n",
    "\n",
    "[Fuente:pixabay](https://pixabay.com/es/photos/astronom%c3%ada-brillante-constelaci%c3%b3n-1867616/)"
   ]
  },
  {
   "cell_type": "markdown",
   "metadata": {},
   "source": [
    "## <span style=\"color:blue\">Referencias</span>\n",
    "1. José Alfredo Moscoso, [Libro de Álgebra Matricial](https://www.cienciadedatos.net/documentos/py10-regresion-lineal-python.html )\n"
   ]
  },
  {
   "cell_type": "markdown",
   "metadata": {},
   "source": [
    "## <span style=\"color:blue\">Profesor</span>\n",
    "1. Alvaro  Montenegro, PhD, ammontenegrod@unal.edu.co"
   ]
  },
  {
   "cell_type": "markdown",
   "metadata": {},
   "source": [
    "## <span style=\"color:blue\">Autores</span>\n",
    "1. Natalia Buriticá, nburitica@unal.edu.co\n",
    "2. Nicolás Romero, niromeros@unal.edu.co\n",
    "2. Jessica López, jelopezme@unal.edu.co"
   ]
  },
  {
   "cell_type": "markdown",
   "metadata": {
    "id": "enJjIlAsA3PZ"
   },
   "source": [
    "## <span style=\"color:blue\">Introducción</span>\n",
    "\n",
    "El método de los Minimos Cuadrados Ordinarios (MCO ó OLS) es un procedimiento matematico que consiste en calcular la recta de regresión lineal que minimiza los residuos, esto quiere decir, minimizar la suma de los residuos al cuadrado, teniendo como residuo la diferencia entre los datos observados y los valores del modelo lineal. Dados un conjunto de pares ordenados ($x_i,y_i$) se busca determinar la ecuacion de la recta $y= ax+b$ que se aproxime lo mas posible a la nube de puntos definida por los pares de los valores muestrales obtenidos. Este modelo de regresion lineal permite efectuar predicciones de una variable aleatoria $Y$ sabiendo los valores de un conjunto de variables $X_1, X_2,… X_n$. A la variable $Y$ la llamamos dependiente, aunque también se la conoce como variable objetivo, endógena, criterio o explicada. Por su parte, las variables $X$ son las variables independientes, conocidas también como predictoras, explicativas, exógenas o regresoras. En otras palabras, Y depende de $X$, donde $Y$ es una variable aleatoria cualquiera pero $X$ no lo es. Lo dicho hasta aqui indica una regresion lineal simple donde se visualiza una unica variable independiente y la otra es depediente. Cuando se considere una regresión multiple se contemplaran tres o mas variables, una de las cuales es la variable dependiente que debe ser estimada con base en los valores de las otras variables que son las independientes.\n"
   ]
  },
  {
   "cell_type": "markdown",
   "metadata": {},
   "source": [
    "<figure> \n",
    "<center>\n",
    "<img src=\"https://github.com/Jeslome/Proyecto/blob/main/Temas/Imagenes/MCO.png?raw=true\"  width=\"400\" height=\"400\" align=\"center\"/>\n",
    "<figcaption> </figcaption>\n",
    "</center>\n",
    "</figure>\n",
    "\n",
    "[Fuente:miprofe](https://miprofe.com/minimos-cuadrados/)"
   ]
  },
  {
   "cell_type": "markdown",
   "metadata": {
    "id": "Pwx_scqNRD4z"
   },
   "source": [
    "## <span style=\"color:blue\">Nota Histórica</span>\n"
   ]
  },
  {
   "cell_type": "markdown",
   "metadata": {
    "id": "q7vqI5USMhu8"
   },
   "source": [
    "El método de mínimos cuadrados tiene una larga historia que se remonta a los principios del siglo XIX. En Junio de 1801, Zach, un astrónomo que Gauss había conocido dos años antes, publicaba las posiciones orbitales del cuerpo celeste Ceres, un nuevo “pequeño planeta” descubierto por el astrónomo italiano G. Piazzi en ese mismo año. Desafortunadamente, Piazzi sólo había podido observar 9 grados de su órbita antes de que este cuerpo desapareciese tras de el sol. Zach publicó varias predicciones de su posición incluyendo una de Gauss que difería notablemente de las demás. Cuando Ceres fue redescubierto por Zach en Diciembre de 1801 estaba casi exactamente en donde Gauss había predicho.\n",
    "Aunque todavía no había revelado su método, Gauss había descubierto el método de mínimos cuadrados. En un trabajo brillante logró calcular la órbita de Ceres a partir de un número reducido de observaciones, de hecho, el método de Gauss requiere sólo un mínimo de 3 observaciones y todavía es, en esencia, el utilizado en la actualidad para calcular las órbitas."
   ]
  },
  {
   "cell_type": "markdown",
   "metadata": {},
   "source": [
    "<figure> \n",
    "<center>\n",
    "<img src=\"https://github.com/Jeslome/Proyecto/blob/main/Temas/Imagenes/Orbit%20of%20Ceres.jpg?raw=true\"  width=\"400\" height=\"400\" align=\"center\"/>\n",
    "<figcaption> </figcaption>\n",
    "</center>\n",
    "</figure>\n",
    "\n",
    "[Fuente:astroPPM](https://astroppm.blogspot.com/2010/08/ceres-directions.html)"
   ]
  },
  {
   "cell_type": "markdown",
   "metadata": {
    "id": "fYpOZPXSVaZS"
   },
   "source": [
    "## <span style=\"color:blue\">Fundamento matemático</span>\n"
   ]
  },
  {
   "cell_type": "markdown",
   "metadata": {},
   "source": [
    "### <span style=\"color:#4CC9F0\">Modelo de regresión lineal simple</span>\n"
   ]
  },
  {
   "cell_type": "markdown",
   "metadata": {
    "id": "SU9bwuR8Yfc2"
   },
   "source": [
    "El problema de recolectar y analizar datos está presente en muchos aspectos de las actividades humanas. Con frecuencia medimos un valor de $y$ para un valor dado de $x$ y luego localizamos los puntos ($x$, $y$) en una gráfica. Aprovechamos la gráfica resultante para establecer una relación entre las variables x y y que luego sirva para predecir nuevos valores de $y$ para valores dados de $x$. A continuación vemos una grafica de lo dicho: "
   ]
  },
  {
   "cell_type": "code",
   "execution_count": 60,
   "metadata": {},
   "outputs": [],
   "source": [
    "%matplotlib inline\n",
    "import seaborn as sns\n",
    "import matplotlib.pyplot as plt\n",
    "import numpy as np\n",
    "import pandas as pd\n",
    "import numpy as np"
   ]
  },
  {
   "cell_type": "code",
   "execution_count": 54,
   "metadata": {},
   "outputs": [
    {
     "data": {
      "text/html": [
       "<div>\n",
       "<style scoped>\n",
       "    .dataframe tbody tr th:only-of-type {\n",
       "        vertical-align: middle;\n",
       "    }\n",
       "\n",
       "    .dataframe tbody tr th {\n",
       "        vertical-align: top;\n",
       "    }\n",
       "\n",
       "    .dataframe thead th {\n",
       "        text-align: right;\n",
       "    }\n",
       "</style>\n",
       "<table border=\"1\" class=\"dataframe\">\n",
       "  <thead>\n",
       "    <tr style=\"text-align: right;\">\n",
       "      <th></th>\n",
       "      <th>usada</th>\n",
       "      <th>presente</th>\n",
       "    </tr>\n",
       "  </thead>\n",
       "  <tbody>\n",
       "    <tr>\n",
       "      <th>0</th>\n",
       "      <td>3</td>\n",
       "      <td>4.5</td>\n",
       "    </tr>\n",
       "    <tr>\n",
       "      <th>1</th>\n",
       "      <td>4</td>\n",
       "      <td>5.5</td>\n",
       "    </tr>\n",
       "    <tr>\n",
       "      <th>2</th>\n",
       "      <td>5</td>\n",
       "      <td>5.7</td>\n",
       "    </tr>\n",
       "    <tr>\n",
       "      <th>3</th>\n",
       "      <td>6</td>\n",
       "      <td>6.6</td>\n",
       "    </tr>\n",
       "    <tr>\n",
       "      <th>4</th>\n",
       "      <td>7</td>\n",
       "      <td>7.0</td>\n",
       "    </tr>\n",
       "    <tr>\n",
       "      <th>5</th>\n",
       "      <td>8</td>\n",
       "      <td>7.7</td>\n",
       "    </tr>\n",
       "    <tr>\n",
       "      <th>6</th>\n",
       "      <td>9</td>\n",
       "      <td>8.5</td>\n",
       "    </tr>\n",
       "    <tr>\n",
       "      <th>7</th>\n",
       "      <td>10</td>\n",
       "      <td>8.7</td>\n",
       "    </tr>\n",
       "    <tr>\n",
       "      <th>8</th>\n",
       "      <td>11</td>\n",
       "      <td>9.5</td>\n",
       "    </tr>\n",
       "    <tr>\n",
       "      <th>9</th>\n",
       "      <td>12</td>\n",
       "      <td>9.7</td>\n",
       "    </tr>\n",
       "  </tbody>\n",
       "</table>\n",
       "</div>"
      ],
      "text/plain": [
       "   usada  presente\n",
       "0      3       4.5\n",
       "1      4       5.5\n",
       "2      5       5.7\n",
       "3      6       6.6\n",
       "4      7       7.0\n",
       "5      8       7.7\n",
       "6      9       8.5\n",
       "7     10       8.7\n",
       "8     11       9.5\n",
       "9     12       9.7"
      ]
     },
     "execution_count": 54,
     "metadata": {},
     "output_type": "execute_result"
    }
   ],
   "source": [
    "Producto = {'Beta usada (gramo/)': [3,4,5,6,7,8,9,10,11,12],\n",
    "               'presente': [4.5, 5.5, 5.7, 6.6,7.0,7.7,8.5,8.7,9.5,9.7]}\n",
    "df"
   ]
  },
  {
   "cell_type": "code",
   "execution_count": 67,
   "metadata": {},
   "outputs": [
    {
     "data": {
      "image/png": "[encoded data removed]",
      "text/plain": [
       "<Figure size 432x288 with 1 Axes>"
      ]
     },
     "metadata": {
      "needs_background": "light"
     },
     "output_type": "display_data"
    }
   ],
   "source": [
    "import matplotlib.pyplot as plt\n",
    "x=[3,4,5,6,7,8,9,10,11,12]\n",
    "y=[4.5, 5.5, 5.7, 6.6,7.0,7.7,8.5,8.7,9.5,9.7]\n",
    "plt.scatter(x,y)\n",
    "plt.show()"
   ]
  },
  {
   "cell_type": "markdown",
   "metadata": {},
   "source": [
    "Suponga que la relación entre la cantidad de alfa utilizada y la cantidad de beta presente está dada por una ecuación lineal, de modo que la gráfica sea una línea recta. En\n",
    "vista de lo anterior, no sería razonable unir los puntos trazando una curva que pase por\n",
    "todos ellos. Además, los datos tienen una naturaleza probabilística, es decir, no son deterministas, en el sentido de que si repitiéramos el experimento encontraríamos valores\n",
    "ligeramente distintos de beta para los mismos valores de alfa, pues todas las mediciones están sujetas a errores experimentales. De esta manera, los puntos graficados no están, necesariamente, sobre una línea recta. A continuación aplicamos el método de\n",
    "mínimos cuadrados para obtener la línea recta que “mejor se ajusta” a los datos proporcionados. Esta línea es la recta de mínimos cuadrados.\n",
    "Suponga que se nos han dado n puntos ($x_1$,$y_1$), ($x_2$,$y_2$), . . . , ($x_n$, $y_n$), donde por lo menos dos de las $x_i$ son distintas. "
   ]
  },
  {
   "cell_type": "markdown",
   "metadata": {},
   "source": [
    "Estamos interesados en determinar la recta que mejor se ajusta a los datos:\n",
    "\n",
    "$$\\widehat{y} = \\ \\widehat{\\alpha} + \\widehat{\\beta}x$$ \n",
    "\n",
    "que “mejor se ajusta a los datos”. Si los puntos ($x_1$,$y_1$), ($x_2$,$y_2$), . . . , ($x_n$, $y_n$)   estuvieran exactamente sobre la recta de mínimos cuadrados, tendríamos que:"
   ]
  },
  {
   "cell_type": "markdown",
   "metadata": {},
   "source": [
    "$$\\widehat{y_i} = \\ \\widehat{\\alpha} + \\widehat{\\beta}x_i$$\n",
    "\n",
    "Predecir el valor de la variable Y a partir del comportamiento de la variable X, a nivel exacto es imposible, puesto que influyen diversos factores desconocidos que alteran el valor de cada variable. Como algunos de estos puntos no están necesariamente sobre la recta, así pues la recta está dada por:"
   ]
  },
  {
   "cell_type": "markdown",
   "metadata": {},
   "source": [
    "   $$\\widehat{y_i} = \\ \\widehat{\\alpha} + \\widehat{\\beta}x_i+ e_i$$"
   ]
  },
  {
   "cell_type": "markdown",
   "metadata": {},
   "source": [
    "Donde: \n",
    "\n",
    "\n",
    "* $\\widehat{y_i}$ es el valor de la variable respuesta en el $i$-ésimo ensayo.\n",
    "\n",
    "\n",
    "* $\\widehat{\\alpha},\\widehat{\\beta}$ Son los coeficientes (o parámetros) de regresión que corresponden al intercepto y a la pendiente, respectivamente.\n",
    "\n",
    "\n",
    "* $x_i$ Es un valor conocido, el valor de la variable independiente en el $i$-ésimo ensayo.\n",
    "\n",
    "* $e_i$ es el error del modelo también conocido como perturbación. Se parte del supuesto de que siguiendo una distribución normal con media cero y varianza $\\sigma^2$ constante y desconocida."
   ]
  },
  {
   "cell_type": "markdown",
   "metadata": {},
   "source": [
    "### <span style=\"color:#4CC9F0\">Mínimos Cuadrados Ordinarios (MCO)</span>\n",
    "\n",
    "\n",
    "\n",
    "Sean $\\left( x_{i},y_{i} \\right)\\ldots\\left( x_{n},y_{n} \\right)$ variables cuantitativas, se propone un modelo de regresión lineal simple para tratar de entender como la variable X afecta a la variable Y.\n",
    "\n",
    "Se busca la recta $\\widehat{y} = \\ \\widehat{\\alpha} + \\widehat{\\beta}x$ que mejor se ajusta al conjunto de datos."
   ]
  },
  {
   "cell_type": "markdown",
   "metadata": {},
   "source": [
    "De lo que se dio cuenta Gauss era que si sumaba todos los errores que estaban por encima de la recta con los que estaban por debajo se iban a cancelar. Cada error está representado por:\n",
    "$$e_i=y_i-\\widehat{y_i}$$\n",
    "Donde $\\widehat{y_i}$ representa  la recta entonces: \n",
    "$$\\widehat{y_i}= \\widehat{\\alpha} + \\widehat{\\beta}$$\n",
    "\n",
    "Entonces si la suma de los $e_1$ son  iguales a 0 y nosotros promediamos esos errores tendriamos que:\n",
    "$$\\frac{1}{n}\\ \\sum_{i=1}^{n}{e_{i} = 0\\times\\frac{1}{n}= 0}$$\n",
    "\n",
    "Donde\n",
    "$$e_i \\~ N(0,\\sigma^2), \\forall{i}$$"
   ]
  },
  {
   "cell_type": "markdown",
   "metadata": {},
   "source": [
    "Hace falta encontrar una recta que minimice los residuos al cuadrado.\n",
    "\n",
    "$$\\Phi\\left( \\widehat{\\alpha},\\widehat{\\beta} \\right) = \\ \\sum_{i = 1}^{n}e_{i}^{2} = \\ \\sum_{i = 1}^{n}\\left( y_{i} - {\\widehat{y}}_{i} \\right)^{2} = \\sum_{i = 1}^{n}\\left( y_{i} - \\widehat{\\alpha} - \\widehat{\\beta}x_{i} \\right)^{2}$$\n",
    "\n",
    "Se tiene que enontrar $\\widehat{\\alpha}\\text{ y }\\widehat{\\beta}$, tal que\n",
    "$\\Phi\\left( \\widehat{\\alpha},\\widehat{\\beta} \\right)$ es mínima.\n",
    "\n",
    "$$\\frac{\\partial\\Phi}{\\partial\\widehat{\\alpha}} = 0\\ \\frac{\\partial\\Phi}{\\partial\\widehat{\\beta}} = 0$$\n"
   ]
  },
  {
   "cell_type": "markdown",
   "metadata": {},
   "source": [
    "$$\\frac{\\partial\\Phi}{\\partial\\widehat{\\alpha}} = \\sum_{i = 1}^{n}{2\\left( y_{i} - \\widehat{\\alpha} - \\widehat{\\beta}x_{i} \\right)\\left( - 1 \\right) = 0 \\Longleftrightarrow \\ \\sum_{i = 1}^{n}{\\left( y_{i} - \\widehat{\\alpha} - \\widehat{\\beta}x_{i} \\right) = 0 \\Longleftrightarrow \\ \\sum_{}^{}{y_{i} - n}}}\\widehat{\\alpha} - \\widehat{\\beta}\\sum_{}^{}{x_{i} = 0} \\Longleftrightarrow \\frac{1}{n}\\sum_{}^{}{y_{i} - \\widehat{\\alpha} - \\widehat{\\beta}}\\frac{1}{n}\\ \\sum_{}^{}{x_{i} = 0} \\Longleftrightarrow \\overline{Y} - \\widehat{\\alpha} - \\widehat{\\beta}\\overline{X} = 0 \\Longrightarrow \\widehat{\\mathbf{\\alpha}}\\mathbf{=}\\overline{\\mathbf{Y}}\\mathbf{-}\\widehat{\\mathbf{\\beta}}\\overline{\\mathbf{X}}$$"
   ]
  },
  {
   "cell_type": "markdown",
   "metadata": {},
   "source": [
    "$$\\frac{\\partial\\Phi}{\\partial\\widehat{\\beta}} = \\sum_{i = 1}^{n}{2\\left( y_{i} - \\widehat{\\alpha} - \\widehat{\\beta}x_{i} \\right)\\left( x_{i} \\right) =}0 \\Longleftrightarrow \\sum_{}^{}{\\left( y_{i} - \\widehat{\\alpha} - \\widehat{\\beta}x_{i} \\right)\\left( x_{i} \\right) = 0}\\  \\Longleftrightarrow \\sum_{}^{}y_{i}x_{i} - \\widehat{\\alpha}\\sum_{}^{}x_{i} - \\widehat{\\beta}\\sum_{}^{}{x_{i}^{2} = 0} \\Longleftrightarrow \\frac{1}{n}\\sum_{}^{}{y_{i}x_{i} -}\\widehat{\\alpha}\\overline{X} - \\widehat{\\beta}\\ \\frac{1}{n}\\sum_{}^{}{x_{i}^{2} = 0} \\Longleftrightarrow \\frac{1}{n}\\sum_{}^{}{x_{i}y_{i}} - \\left( \\overline{Y} - \\widehat{\\beta}\\overline{X} \\right)\\overline{X} - \\widehat{\\beta}\\frac{1}{n}\\sum_{}^{}{x_{i}^{2} = 0}\\  \\Longleftrightarrow \\frac{1}{n}\\sum_{}^{}{(x_{i}y_{i}} - \\vec{X}\\overline{Y}) - \\ \\widehat{\\beta}(\\frac{1}{n}\\sum_{}^{}x_{i}^{2} - {\\overline{X}}^{2}) = 0 \n",
    "\\Longleftrightarrow S_{\\text{xy}} - \\widehat{\\beta}S_{x}^{2}\\ \\  \\Longrightarrow \\widehat{\\beta} = \\frac{S_{\\text{xy}}}{S_{x}^{2}}$$  "
   ]
  },
  {
   "cell_type": "markdown",
   "metadata": {},
   "source": [
    "Dado que teniamos que\n",
    "   $$\\widehat{y} = \\ \\widehat{\\alpha} + \\widehat{\\beta}x \\Longrightarrow \\widehat{\\alpha}=\\widehat{y}-\\widehat{\\beta}x \\Longrightarrow \\widehat{\\alpha}=\\widehat{y}-\\frac{S_{\\text{xy}}}{S_{x}^{2}}x$$\n",
    "\n"
   ]
  },
  {
   "cell_type": "markdown",
   "metadata": {},
   "source": [
    "### <span style=\"color:#4CC9F0\">Modelo lineal general (múltiple)</span>\n"
   ]
  },
  {
   "cell_type": "markdown",
   "metadata": {},
   "source": [
    "El conjunto de n ecuaciones simultaneas de la recta del modelo lineal es de la forma:\n",
    "$${y_1} = \\beta_0 + \\beta_1x_1 + e_1$$     \n",
    "$${y_2} = \\beta_0 + \\beta_1x_2 + e_2$$\n",
    "$$\\vdots$$\n",
    "$$y_n = \\beta_0 + \\beta_1x_n + e_n$$     \n"
   ]
  },
  {
   "cell_type": "markdown",
   "metadata": {},
   "source": [
    "Que puede escribirse en forma matricial como sigue:\n",
    "\n",
    "$$\n",
    "\\left(\n",
    "\\begin{array}{ll}\n",
    "y_1 \\\\\n",
    "y_2 \\\\\n",
    "\\vdots \\\\\n",
    "y_n\n",
    "\\end{array}\n",
    "\\right)\n",
    "=\n",
    "\\left(\n",
    "\\begin{array}{ll}\n",
    "1 & x_1 \\\\\n",
    "1 & x_2\\\\\n",
    "\\vdots & \\vdots \\\\\n",
    "1 & x_n\n",
    "\\end{array}\n",
    "\\right)\n",
    "*\n",
    "\\left(\n",
    "\\begin{array}{ll}\n",
    "\\mbox{β0}\\\\\n",
    "\\mbox{β1}\n",
    "\\end{array}\n",
    "\\right)\n",
    "+\n",
    "\\left(\n",
    "\\begin{array}{ll}\n",
    "e_1\\\\\n",
    "e_2\\\\\n",
    "\\vdots \\\\\n",
    "e_n\n",
    "\\end{array}\n",
    "\\right)\n",
    "$$\n"
   ]
  },
  {
   "cell_type": "markdown",
   "metadata": {},
   "source": [
    "es decir:\n",
    "\n",
    "$$\\vec{Y}= X \\vec{β} + \\vec{e}$$\n",
    "\n",
    "\n",
    "Esta expresión nos permite formular el modelo lineal general.\n",
    "donde:\n",
    "\n",
    "* $\\vec{Y}$ : Es un vector columna de tamaño n × 1, de observaciones sobre la\n",
    "variable dependiente Y.\n",
    "* $X$ : Es una matriz de tamaño n × p, p ≤ n, de cantidades conocidas\n",
    "fijas, donde la primera columna es de unos y tiene rango igual a\n",
    "k ≤ p.\n",
    "* $\\vec{β}$ : Es un vector columna de tamaño p × 1, de parámetros desconocidos\n",
    "β0, β1,...,βp − 1.\n",
    "* $\\vec{e}$ : Es un vector aleatorio o perturbado de tamaño n × 1.\n",
    "\n",
    "Se dice que es un modelo lineal general. Este modelo es de rango completo\n",
    "si el rango de X es igual a p, el cual podemos escribir como:\n",
    "$$y_i= \\sum_{j=0}^{p-1} \\beta_jx_{ij} + e_i $$\n"
   ]
  },
  {
   "cell_type": "markdown",
   "metadata": {},
   "source": [
    "### <span style=\"color:violet\">Forma operativa</span>\n"
   ]
  },
  {
   "cell_type": "markdown",
   "metadata": {},
   "source": [
    "Como ya se ha mencionado anteriormente, este método consiste en determinar los valores de los parametros $\\beta_j$ de tal manera que la suma de cuadrados del error (SCE) sea mínima, es decir, se minimiza:\n",
    "\n",
    "$$SCE=\\sum_{i = 1}^{n}e_{i}^{2}= \\vec{e}^t\\vec{e}=(\\vec{y}-\\vec{\\beta}X)^t(\\vec{y}-\\vec{\\beta}X)\\Longleftrightarrow \\vec{y}^t\\vec{y}- \\vec{y}^tX\\vec{\\beta}-\\vec{\\beta}^tX^t\\vec{y}+(\\vec{\\beta}^t(X^tX)\\vec{\\beta})$$"
   ]
  },
  {
   "cell_type": "markdown",
   "metadata": {},
   "source": [
    "$$\\frac{\\partial(\\vec{e}^t\\vec{e})}{\\partial\\vec{\\beta}}=0\\Longleftrightarrow-(\\vec{y}^tX)^t-X^t\\vec{y}+X^tX\\vec{\\beta}+(\\vec{\\beta}^tX^tX)^t=0\\Longleftrightarrow-X^t\\vec{y}-X^t\\vec{y}+X^tX\\vec{\\beta}+(X^tX)^t\\vec{\\beta}=0\\Longleftrightarrow X^tX\\vec{\\beta}=X^t\\vec{y}$$"
   ]
  },
  {
   "cell_type": "markdown",
   "metadata": {},
   "source": [
    "Por lo tanto:\n",
    "$$\\vec{\\beta}=(X^tX)^{-1}X^t\\vec{y}=C\\vec{y}$$"
   ]
  },
  {
   "cell_type": "markdown",
   "metadata": {},
   "source": [
    "### <span style=\"color:#4CC9F0\">Implementación en Python del método de minimos cuadrados ordinarios</span>"
   ]
  },
  {
   "cell_type": "markdown",
   "metadata": {},
   "source": [
    "### <span style=\"color:violet\">Librerias</span>"
   ]
  },
  {
   "cell_type": "markdown",
   "metadata": {},
   "source": [
    "Para este ejemplo tenemos un conjunto de datos con los runs que hacen los equipos de baseball y sus bateos para los cuales queremos indentificar una posible relación entre ellos"
   ]
  },
  {
   "cell_type": "code",
   "execution_count": 1,
   "metadata": {},
   "outputs": [],
   "source": [
    "# Tratamiento de datos\n",
    "# ==============================================================================\n",
    "import pandas as pd\n",
    "import numpy as np\n",
    "\n",
    "# Gráficos\n",
    "# ==============================================================================\n",
    "import matplotlib.pyplot as plt\n",
    "from matplotlib import style\n",
    "import seaborn as sns\n",
    "\n",
    "# Preprocesado y modelado\n",
    "# ==============================================================================\n",
    "from scipy.stats import pearsonr\n",
    "from sklearn.linear_model import LinearRegression\n",
    "from sklearn.model_selection import train_test_split\n",
    "from sklearn.metrics import r2_score\n",
    "from sklearn.metrics import mean_squared_error\n",
    "import statsmodels.api as sm\n",
    "import statsmodels.formula.api as smf\n",
    "\n",
    "# Configuración matplotlib\n",
    "# ==============================================================================\n",
    "plt.rcParams['image.cmap'] = \"bwr\"\n",
    "#plt.rcParams['figure.dpi'] = \"100\"\n",
    "plt.rcParams['savefig.bbox'] = \"tight\"\n",
    "style.use('ggplot') or plt.style.use('ggplot')\n",
    "\n",
    "# Configuración warnings\n",
    "# ==============================================================================\n",
    "import warnings\n",
    "warnings.filterwarnings('ignore')\n"
   ]
  },
  {
   "cell_type": "markdown",
   "metadata": {},
   "source": [
    "### <span style=\"color:violet\">Datos</span>"
   ]
  },
  {
   "cell_type": "code",
   "execution_count": 2,
   "metadata": {},
   "outputs": [
    {
     "data": {
      "text/html": [
       "<div>\n",
       "<style scoped>\n",
       "    .dataframe tbody tr th:only-of-type {\n",
       "        vertical-align: middle;\n",
       "    }\n",
       "\n",
       "    .dataframe tbody tr th {\n",
       "        vertical-align: top;\n",
       "    }\n",
       "\n",
       "    .dataframe thead th {\n",
       "        text-align: right;\n",
       "    }\n",
       "</style>\n",
       "<table border=\"1\" class=\"dataframe\">\n",
       "  <thead>\n",
       "    <tr style=\"text-align: right;\">\n",
       "      <th></th>\n",
       "      <th>equipos</th>\n",
       "      <th>bateos</th>\n",
       "      <th>runs</th>\n",
       "    </tr>\n",
       "  </thead>\n",
       "  <tbody>\n",
       "    <tr>\n",
       "      <th>0</th>\n",
       "      <td>Texas</td>\n",
       "      <td>5659</td>\n",
       "      <td>855</td>\n",
       "    </tr>\n",
       "    <tr>\n",
       "      <th>1</th>\n",
       "      <td>Boston</td>\n",
       "      <td>5710</td>\n",
       "      <td>875</td>\n",
       "    </tr>\n",
       "    <tr>\n",
       "      <th>2</th>\n",
       "      <td>Detroit</td>\n",
       "      <td>5563</td>\n",
       "      <td>787</td>\n",
       "    </tr>\n",
       "    <tr>\n",
       "      <th>3</th>\n",
       "      <td>Kansas</td>\n",
       "      <td>5672</td>\n",
       "      <td>730</td>\n",
       "    </tr>\n",
       "    <tr>\n",
       "      <th>4</th>\n",
       "      <td>St.</td>\n",
       "      <td>5532</td>\n",
       "      <td>762</td>\n",
       "    </tr>\n",
       "    <tr>\n",
       "      <th>5</th>\n",
       "      <td>New_S.</td>\n",
       "      <td>5600</td>\n",
       "      <td>718</td>\n",
       "    </tr>\n",
       "    <tr>\n",
       "      <th>6</th>\n",
       "      <td>New_Y.</td>\n",
       "      <td>5518</td>\n",
       "      <td>867</td>\n",
       "    </tr>\n",
       "    <tr>\n",
       "      <th>7</th>\n",
       "      <td>Milwaukee</td>\n",
       "      <td>5447</td>\n",
       "      <td>721</td>\n",
       "    </tr>\n",
       "    <tr>\n",
       "      <th>8</th>\n",
       "      <td>Colorado</td>\n",
       "      <td>5544</td>\n",
       "      <td>735</td>\n",
       "    </tr>\n",
       "    <tr>\n",
       "      <th>9</th>\n",
       "      <td>Houston</td>\n",
       "      <td>5598</td>\n",
       "      <td>615</td>\n",
       "    </tr>\n",
       "    <tr>\n",
       "      <th>10</th>\n",
       "      <td>Baltimore</td>\n",
       "      <td>5585</td>\n",
       "      <td>708</td>\n",
       "    </tr>\n",
       "    <tr>\n",
       "      <th>11</th>\n",
       "      <td>Los_An.</td>\n",
       "      <td>5436</td>\n",
       "      <td>644</td>\n",
       "    </tr>\n",
       "    <tr>\n",
       "      <th>12</th>\n",
       "      <td>Chicago</td>\n",
       "      <td>5549</td>\n",
       "      <td>654</td>\n",
       "    </tr>\n",
       "    <tr>\n",
       "      <th>13</th>\n",
       "      <td>Cincinnati</td>\n",
       "      <td>5612</td>\n",
       "      <td>735</td>\n",
       "    </tr>\n",
       "    <tr>\n",
       "      <th>14</th>\n",
       "      <td>Los_P.</td>\n",
       "      <td>5513</td>\n",
       "      <td>667</td>\n",
       "    </tr>\n",
       "    <tr>\n",
       "      <th>15</th>\n",
       "      <td>Philadelphia</td>\n",
       "      <td>5579</td>\n",
       "      <td>713</td>\n",
       "    </tr>\n",
       "    <tr>\n",
       "      <th>16</th>\n",
       "      <td>Chicago</td>\n",
       "      <td>5502</td>\n",
       "      <td>654</td>\n",
       "    </tr>\n",
       "    <tr>\n",
       "      <th>17</th>\n",
       "      <td>Cleveland</td>\n",
       "      <td>5509</td>\n",
       "      <td>704</td>\n",
       "    </tr>\n",
       "    <tr>\n",
       "      <th>18</th>\n",
       "      <td>Arizona</td>\n",
       "      <td>5421</td>\n",
       "      <td>731</td>\n",
       "    </tr>\n",
       "    <tr>\n",
       "      <th>19</th>\n",
       "      <td>Toronto</td>\n",
       "      <td>5559</td>\n",
       "      <td>743</td>\n",
       "    </tr>\n",
       "    <tr>\n",
       "      <th>20</th>\n",
       "      <td>Minnesota</td>\n",
       "      <td>5487</td>\n",
       "      <td>619</td>\n",
       "    </tr>\n",
       "    <tr>\n",
       "      <th>21</th>\n",
       "      <td>Florida</td>\n",
       "      <td>5508</td>\n",
       "      <td>625</td>\n",
       "    </tr>\n",
       "    <tr>\n",
       "      <th>22</th>\n",
       "      <td>Pittsburgh</td>\n",
       "      <td>5421</td>\n",
       "      <td>610</td>\n",
       "    </tr>\n",
       "    <tr>\n",
       "      <th>23</th>\n",
       "      <td>Oakland</td>\n",
       "      <td>5452</td>\n",
       "      <td>645</td>\n",
       "    </tr>\n",
       "    <tr>\n",
       "      <th>24</th>\n",
       "      <td>Tampa</td>\n",
       "      <td>5436</td>\n",
       "      <td>707</td>\n",
       "    </tr>\n",
       "  </tbody>\n",
       "</table>\n",
       "</div>"
      ],
      "text/plain": [
       "         equipos  bateos  runs\n",
       "0          Texas    5659   855\n",
       "1         Boston    5710   875\n",
       "2        Detroit    5563   787\n",
       "3         Kansas    5672   730\n",
       "4            St.    5532   762\n",
       "5         New_S.    5600   718\n",
       "6         New_Y.    5518   867\n",
       "7      Milwaukee    5447   721\n",
       "8       Colorado    5544   735\n",
       "9        Houston    5598   615\n",
       "10     Baltimore    5585   708\n",
       "11       Los_An.    5436   644\n",
       "12       Chicago    5549   654\n",
       "13    Cincinnati    5612   735\n",
       "14        Los_P.    5513   667\n",
       "15  Philadelphia    5579   713\n",
       "16       Chicago    5502   654\n",
       "17     Cleveland    5509   704\n",
       "18       Arizona    5421   731\n",
       "19       Toronto    5559   743\n",
       "20     Minnesota    5487   619\n",
       "21       Florida    5508   625\n",
       "22    Pittsburgh    5421   610\n",
       "23       Oakland    5452   645\n",
       "24         Tampa    5436   707"
      ]
     },
     "execution_count": 2,
     "metadata": {},
     "output_type": "execute_result"
    }
   ],
   "source": [
    "# Datos\n",
    "# ==============================================================================\n",
    "equipos = [\"Texas\",\"Boston\",\"Detroit\",\"Kansas\",\"St.\",\"New_S.\",\"New_Y.\",\n",
    "           \"Milwaukee\",\"Colorado\",\"Houston\",\"Baltimore\",\"Los_An.\",\"Chicago\",\n",
    "           \"Cincinnati\",\"Los_P.\",\"Philadelphia\",\"Chicago\",\"Cleveland\",\"Arizona\",\n",
    "           \"Toronto\",\"Minnesota\",\"Florida\",\"Pittsburgh\",\"Oakland\",\"Tampa\",\n",
    "           \"Atlanta\",\"Washington\",\"San.F\",\"San.I\",\"Seattle\"]\n",
    "bateos = [5659,  5710, 5563, 5672, 5532, 5600, 5518, 5447, 5544, 5598,\n",
    "          5585, 5436, 5549, 5612, 5513, 5579, 5502, 5509, 5421, 5559,\n",
    "          5487, 5508, 5421, 5452, 5436, 5528, 5441, 5486, 5417, 5421]\n",
    "\n",
    "runs = [855, 875, 787, 730, 762, 718, 867, 721, 735, 615, 708, 644, 654, 735,\n",
    "        667, 713, 654, 704, 731, 743, 619, 625, 610, 645, 707, 641, 624, 570,\n",
    "        593, 556]\n",
    "\n",
    "datos = pd.DataFrame({'equipos': equipos, 'bateos': bateos, 'runs': runs})\n",
    "datos.head(25)"
   ]
  },
  {
   "cell_type": "markdown",
   "metadata": {},
   "source": [
    "### <span style=\"color:violet\">Representación Gráfica</span>"
   ]
  },
  {
   "cell_type": "code",
   "execution_count": 3,
   "metadata": {},
   "outputs": [
    {
     "data": {
      "image/png": "[encoded data removed]",
      "text/plain": [
       "<Figure size 432x276.48 with 1 Axes>"
      ]
     },
     "metadata": {},
     "output_type": "display_data"
    }
   ],
   "source": [
    "# Gráfico\n",
    "# ==============================================================================\n",
    "fig, ax = plt.subplots(figsize=(6, 3.84))\n",
    "\n",
    "datos.plot(\n",
    "    x    = 'bateos',\n",
    "    y    = 'runs',\n",
    "    c    = 'firebrick',\n",
    "    kind = \"scatter\",\n",
    "    ax   = ax\n",
    ")\n",
    "ax.set_title('Distribución de bateos y runs');\n"
   ]
  },
  {
   "cell_type": "code",
   "execution_count": 4,
   "metadata": {},
   "outputs": [
    {
     "name": "stdout",
     "output_type": "stream",
     "text": [
      "Coeficiente de correlación de Pearson:  0.6106270467206687\n",
      "P-value:  0.0003388351359791978\n"
     ]
    }
   ],
   "source": [
    "# Correlación lineal entre las dos variables\n",
    "# ==============================================================================\n",
    "corr_test = pearsonr(x = datos['bateos'], y =  datos['runs'])\n",
    "print(\"Coeficiente de correlación de Pearson: \", corr_test[0])\n",
    "print(\"P-value: \", corr_test[1])"
   ]
  },
  {
   "cell_type": "markdown",
   "metadata": {},
   "source": [
    "El gráfico y el test de correlación muestran una relación lineal, de intensidad considerable (r = 0.61) y significativa (p-value = 0.000339). Tiene sentido intentar generar un modelo de regresión lineal con el objetivo de predecir el número de runs en función del número de bateos del equipo."
   ]
  },
  {
   "cell_type": "markdown",
   "metadata": {},
   "source": [
    "### <span style=\"color:violet\">Ajuste del modelo</span>"
   ]
  },
  {
   "cell_type": "code",
   "execution_count": 5,
   "metadata": {},
   "outputs": [
    {
     "data": {
      "text/plain": [
       "LinearRegression()"
      ]
     },
     "execution_count": 5,
     "metadata": {},
     "output_type": "execute_result"
    }
   ],
   "source": [
    "# División de los datos en train y test\n",
    "# ==============================================================================\n",
    "X = datos[['bateos']]\n",
    "y = datos['runs']\n",
    "\n",
    "X_train, X_test, y_train, y_test = train_test_split(\n",
    "                                        X.values.reshape(-1,1),\n",
    "                                        y.values.reshape(-1,1),\n",
    "                                        train_size   = 0.8,\n",
    "                                        random_state = 1234,\n",
    "                                        shuffle      = True\n",
    "                                    )\n",
    "\n",
    "# Creación del modelo\n",
    "# ==============================================================================\n",
    "modelo = LinearRegression()\n",
    "modelo.fit(X = X_train.reshape(-1, 1), y = y_train)"
   ]
  },
  {
   "cell_type": "code",
   "execution_count": 6,
   "metadata": {},
   "outputs": [
    {
     "name": "stdout",
     "output_type": "stream",
     "text": [
      "Intercept: [-2367.7028413]\n",
      "Coeficiente: [('bateos', 0.5528713534479736)]\n",
      "Coeficiente de determinación R^2: 0.3586119899498744\n"
     ]
    }
   ],
   "source": [
    "# Información del modelo\n",
    "# ==============================================================================\n",
    "print(\"Intercept:\", modelo.intercept_)\n",
    "print(\"Coeficiente:\", list(zip(X.columns, modelo.coef_.flatten(), )))\n",
    "print(\"Coeficiente de determinación R^2:\", modelo.score(X,y))"
   ]
  },
  {
   "cell_type": "markdown",
   "metadata": {},
   "source": [
    "### <span style=\"color:#4CC9F0\">Implementación de MCO usando StatsModels</span>"
   ]
  },
  {
   "cell_type": "code",
   "execution_count": 7,
   "metadata": {},
   "outputs": [],
   "source": [
    "import statsmodels.formula.api as smf"
   ]
  },
  {
   "cell_type": "code",
   "execution_count": 9,
   "metadata": {},
   "outputs": [],
   "source": [
    "linear_model=smf.ols(formula='bateos ~ runs', data=datos).fit()"
   ]
  },
  {
   "cell_type": "code",
   "execution_count": 10,
   "metadata": {},
   "outputs": [
    {
     "data": {
      "text/html": [
       "<table class=\"simpletable\">\n",
       "<caption>OLS Regression Results</caption>\n",
       "<tr>\n",
       "  <th>Dep. Variable:</th>         <td>bateos</td>      <th>  R-squared:         </th> <td>   0.373</td>\n",
       "</tr>\n",
       "<tr>\n",
       "  <th>Model:</th>                   <td>OLS</td>       <th>  Adj. R-squared:    </th> <td>   0.350</td>\n",
       "</tr>\n",
       "<tr>\n",
       "  <th>Method:</th>             <td>Least Squares</td>  <th>  F-statistic:       </th> <td>   16.65</td>\n",
       "</tr>\n",
       "<tr>\n",
       "  <th>Date:</th>             <td>Sun, 27 Nov 2022</td> <th>  Prob (F-statistic):</th> <td>0.000339</td>\n",
       "</tr>\n",
       "<tr>\n",
       "  <th>Time:</th>                 <td>19:23:24</td>     <th>  Log-Likelihood:    </th> <td> -166.47</td>\n",
       "</tr>\n",
       "<tr>\n",
       "  <th>No. Observations:</th>      <td>    30</td>      <th>  AIC:               </th> <td>   336.9</td>\n",
       "</tr>\n",
       "<tr>\n",
       "  <th>Df Residuals:</th>          <td>    28</td>      <th>  BIC:               </th> <td>   339.8</td>\n",
       "</tr>\n",
       "<tr>\n",
       "  <th>Df Model:</th>              <td>     1</td>      <th>                     </th>     <td> </td>   \n",
       "</tr>\n",
       "<tr>\n",
       "  <th>Covariance Type:</th>      <td>nonrobust</td>    <th>                     </th>     <td> </td>   \n",
       "</tr>\n",
       "</table>\n",
       "<table class=\"simpletable\">\n",
       "<tr>\n",
       "      <td></td>         <th>coef</th>     <th>std err</th>      <th>t</th>      <th>P>|t|</th>  <th>[0.025</th>    <th>0.975]</th>  \n",
       "</tr>\n",
       "<tr>\n",
       "  <th>Intercept</th> <td> 5113.3510</td> <td>  101.208</td> <td>   50.523</td> <td> 0.000</td> <td> 4906.036</td> <td> 5320.666</td>\n",
       "</tr>\n",
       "<tr>\n",
       "  <th>runs</th>      <td>    0.5913</td> <td>    0.145</td> <td>    4.080</td> <td> 0.000</td> <td>    0.294</td> <td>    0.888</td>\n",
       "</tr>\n",
       "</table>\n",
       "<table class=\"simpletable\">\n",
       "<tr>\n",
       "  <th>Omnibus:</th>       <td> 0.065</td> <th>  Durbin-Watson:     </th> <td>   1.959</td>\n",
       "</tr>\n",
       "<tr>\n",
       "  <th>Prob(Omnibus):</th> <td> 0.968</td> <th>  Jarque-Bera (JB):  </th> <td>   0.280</td>\n",
       "</tr>\n",
       "<tr>\n",
       "  <th>Skew:</th>          <td>-0.024</td> <th>  Prob(JB):          </th> <td>   0.869</td>\n",
       "</tr>\n",
       "<tr>\n",
       "  <th>Kurtosis:</th>      <td> 2.529</td> <th>  Cond. No.          </th> <td>6.01e+03</td>\n",
       "</tr>\n",
       "</table><br/><br/>Notes:<br/>[1] Standard Errors assume that the covariance matrix of the errors is correctly specified.<br/>[2] The condition number is large, 6.01e+03. This might indicate that there are<br/>strong multicollinearity or other numerical problems."
      ],
      "text/plain": [
       "<class 'statsmodels.iolib.summary.Summary'>\n",
       "\"\"\"\n",
       "                            OLS Regression Results                            \n",
       "==============================================================================\n",
       "Dep. Variable:                 bateos   R-squared:                       0.373\n",
       "Model:                            OLS   Adj. R-squared:                  0.350\n",
       "Method:                 Least Squares   F-statistic:                     16.65\n",
       "Date:                Sun, 27 Nov 2022   Prob (F-statistic):           0.000339\n",
       "Time:                        19:23:24   Log-Likelihood:                -166.47\n",
       "No. Observations:                  30   AIC:                             336.9\n",
       "Df Residuals:                      28   BIC:                             339.8\n",
       "Df Model:                           1                                         \n",
       "Covariance Type:            nonrobust                                         \n",
       "==============================================================================\n",
       "                 coef    std err          t      P>|t|      [0.025      0.975]\n",
       "------------------------------------------------------------------------------\n",
       "Intercept   5113.3510    101.208     50.523      0.000    4906.036    5320.666\n",
       "runs           0.5913      0.145      4.080      0.000       0.294       0.888\n",
       "==============================================================================\n",
       "Omnibus:                        0.065   Durbin-Watson:                   1.959\n",
       "Prob(Omnibus):                  0.968   Jarque-Bera (JB):                0.280\n",
       "Skew:                          -0.024   Prob(JB):                        0.869\n",
       "Kurtosis:                       2.529   Cond. No.                     6.01e+03\n",
       "==============================================================================\n",
       "\n",
       "Notes:\n",
       "[1] Standard Errors assume that the covariance matrix of the errors is correctly specified.\n",
       "[2] The condition number is large, 6.01e+03. This might indicate that there are\n",
       "strong multicollinearity or other numerical problems.\n",
       "\"\"\""
      ]
     },
     "execution_count": 10,
     "metadata": {},
     "output_type": "execute_result"
    }
   ],
   "source": [
    "linear_model.summary()"
   ]
  },
  {
   "cell_type": "code",
   "execution_count": null,
   "metadata": {},
   "outputs": [],
   "source": []
  }
 ],
 "metadata": {
  "colab": {
   "collapsed_sections": [],
   "provenance": []
  },
  "kernelspec": {
   "display_name": "Python 3",
   "language": "python",
   "name": "python3"
  },
  "language_info": {
   "codemirror_mode": {
    "name": "ipython",
    "version": 3
   },
   "file_extension": ".py",
   "mimetype": "text/x-python",
   "name": "python",
   "nbconvert_exporter": "python",
   "pygments_lexer": "ipython3",
   "version": "3.8.8"
  }
 },
 "nbformat": 4,
 "nbformat_minor": 4
}
